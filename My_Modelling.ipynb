{
 "cells": [
  {
   "cell_type": "markdown",
   "metadata": {},
   "source": [
    "### Importing Necessary Library"
   ]
  },
  {
   "cell_type": "code",
   "execution_count": 1,
   "metadata": {},
   "outputs": [],
   "source": [
    "import pandas as pd\n",
    "import numpy as np\n",
    "import seaborn as sns\n",
    "\n",
    "%matplotlib inline\n",
    "\n",
    "import statsmodels.api as sm\n",
    "import matplotlib.pyplot as plt\n",
    "sns.set()\n",
    "from sklearn.cluster import KMeans"
   ]
  },
  {
   "cell_type": "markdown",
   "metadata": {},
   "source": [
    "##### Beautification Settings"
   ]
  },
  {
   "cell_type": "code",
   "execution_count": 2,
   "metadata": {},
   "outputs": [
    {
     "data": {
      "image/png": "[encoded data removed]",
      "text/plain": [
       "<Figure size 504x72 with 1 Axes>"
      ]
     },
     "metadata": {
      "needs_background": "light"
     },
     "output_type": "display_data"
    }
   ],
   "source": [
    "#set font size of labels on matplotlib plots\n",
    "plt.rc('font', size=16)\n",
    "\n",
    "#define a custom palette\n",
    "customPalette = ['#630C3A', '#FF5768', '#D3500C', '#FFB139', '#FFDACC', '#00CDAC',\\\n",
    "                '#0065A2']\n",
    "sns.set_palette(customPalette)\n",
    "sns.palplot(customPalette)"
   ]
  },
  {
   "cell_type": "markdown",
   "metadata": {},
   "source": [
    "### Read in the dataset and Feature Selection"
   ]
  },
  {
   "cell_type": "code",
   "execution_count": 3,
   "metadata": {},
   "outputs": [],
   "source": [
    "df = pd.read_csv('Health_Dataset.csv')"
   ]
  },
  {
   "cell_type": "code",
   "execution_count": 4,
   "metadata": {},
   "outputs": [
    {
     "data": {
      "image/png": "[encoded data removed]",
      "text/plain": [
       "<Figure size 432x288 with 1 Axes>"
      ]
     },
     "metadata": {
      "needs_background": "light"
     },
     "output_type": "display_data"
    }
   ],
   "source": [
    "# Creating a scatter plot\n",
    "plt.scatter(df['X_gps_longitude'],df['X_gps_latitude'])\n",
    "#plt.xlim(-180,180)\n",
    "#plt.ylim(-90,90)\n",
    "plt.show()"
   ]
  },
  {
   "cell_type": "code",
   "execution_count": 5,
   "metadata": {},
   "outputs": [],
   "source": [
    "# Selecting the columns needed for clustering\n",
    "workwith = df[['X_gps_longitude','X_gps_latitude']]"
   ]
  },
  {
   "cell_type": "code",
   "execution_count": 6,
   "metadata": {
    "scrolled": false
   },
   "outputs": [
    {
     "data": {
      "text/html": [
       "<div>\n",
       "<style scoped>\n",
       "    .dataframe tbody tr th:only-of-type {\n",
       "        vertical-align: middle;\n",
       "    }\n",
       "\n",
       "    .dataframe tbody tr th {\n",
       "        vertical-align: top;\n",
       "    }\n",
       "\n",
       "    .dataframe thead th {\n",
       "        text-align: right;\n",
       "    }\n",
       "</style>\n",
       "<table border=\"1\" class=\"dataframe\">\n",
       "  <thead>\n",
       "    <tr style=\"text-align: right;\">\n",
       "      <th></th>\n",
       "      <th>X_gps_longitude</th>\n",
       "      <th>X_gps_latitude</th>\n",
       "    </tr>\n",
       "  </thead>\n",
       "  <tbody>\n",
       "    <tr>\n",
       "      <th>0</th>\n",
       "      <td>6.879838</td>\n",
       "      <td>5.261363</td>\n",
       "    </tr>\n",
       "    <tr>\n",
       "      <th>1</th>\n",
       "      <td>6.640483</td>\n",
       "      <td>6.845640</td>\n",
       "    </tr>\n",
       "    <tr>\n",
       "      <th>2</th>\n",
       "      <td>6.641430</td>\n",
       "      <td>6.714820</td>\n",
       "    </tr>\n",
       "    <tr>\n",
       "      <th>3</th>\n",
       "      <td>7.737949</td>\n",
       "      <td>5.065792</td>\n",
       "    </tr>\n",
       "    <tr>\n",
       "      <th>4</th>\n",
       "      <td>6.880269</td>\n",
       "      <td>5.254864</td>\n",
       "    </tr>\n",
       "    <tr>\n",
       "      <th>5</th>\n",
       "      <td>8.486672</td>\n",
       "      <td>9.794160</td>\n",
       "    </tr>\n",
       "    <tr>\n",
       "      <th>6</th>\n",
       "      <td>6.939401</td>\n",
       "      <td>5.675088</td>\n",
       "    </tr>\n",
       "    <tr>\n",
       "      <th>7</th>\n",
       "      <td>7.563946</td>\n",
       "      <td>4.947375</td>\n",
       "    </tr>\n",
       "    <tr>\n",
       "      <th>8</th>\n",
       "      <td>7.914587</td>\n",
       "      <td>9.032754</td>\n",
       "    </tr>\n",
       "    <tr>\n",
       "      <th>9</th>\n",
       "      <td>8.391062</td>\n",
       "      <td>11.730856</td>\n",
       "    </tr>\n",
       "    <tr>\n",
       "      <th>10</th>\n",
       "      <td>8.376904</td>\n",
       "      <td>11.739570</td>\n",
       "    </tr>\n",
       "    <tr>\n",
       "      <th>11</th>\n",
       "      <td>7.125853</td>\n",
       "      <td>5.935584</td>\n",
       "    </tr>\n",
       "    <tr>\n",
       "      <th>12</th>\n",
       "      <td>6.789521</td>\n",
       "      <td>6.113946</td>\n",
       "    </tr>\n",
       "    <tr>\n",
       "      <th>13</th>\n",
       "      <td>7.604209</td>\n",
       "      <td>4.994034</td>\n",
       "    </tr>\n",
       "    <tr>\n",
       "      <th>14</th>\n",
       "      <td>7.870059</td>\n",
       "      <td>9.035730</td>\n",
       "    </tr>\n",
       "    <tr>\n",
       "      <th>15</th>\n",
       "      <td>9.337707</td>\n",
       "      <td>9.713401</td>\n",
       "    </tr>\n",
       "    <tr>\n",
       "      <th>16</th>\n",
       "      <td>7.947055</td>\n",
       "      <td>9.122902</td>\n",
       "    </tr>\n",
       "    <tr>\n",
       "      <th>17</th>\n",
       "      <td>7.978990</td>\n",
       "      <td>9.156402</td>\n",
       "    </tr>\n",
       "    <tr>\n",
       "      <th>18</th>\n",
       "      <td>8.795840</td>\n",
       "      <td>10.600608</td>\n",
       "    </tr>\n",
       "    <tr>\n",
       "      <th>19</th>\n",
       "      <td>8.424016</td>\n",
       "      <td>11.713402</td>\n",
       "    </tr>\n",
       "    <tr>\n",
       "      <th>20</th>\n",
       "      <td>10.440322</td>\n",
       "      <td>11.143060</td>\n",
       "    </tr>\n",
       "    <tr>\n",
       "      <th>21</th>\n",
       "      <td>7.212890</td>\n",
       "      <td>9.105904</td>\n",
       "    </tr>\n",
       "    <tr>\n",
       "      <th>22</th>\n",
       "      <td>7.215056</td>\n",
       "      <td>9.105811</td>\n",
       "    </tr>\n",
       "    <tr>\n",
       "      <th>23</th>\n",
       "      <td>7.049999</td>\n",
       "      <td>4.801727</td>\n",
       "    </tr>\n",
       "    <tr>\n",
       "      <th>24</th>\n",
       "      <td>8.123772</td>\n",
       "      <td>12.738454</td>\n",
       "    </tr>\n",
       "    <tr>\n",
       "      <th>25</th>\n",
       "      <td>7.992612</td>\n",
       "      <td>12.717583</td>\n",
       "    </tr>\n",
       "    <tr>\n",
       "      <th>26</th>\n",
       "      <td>3.368400</td>\n",
       "      <td>6.537775</td>\n",
       "    </tr>\n",
       "    <tr>\n",
       "      <th>27</th>\n",
       "      <td>7.977982</td>\n",
       "      <td>12.635131</td>\n",
       "    </tr>\n",
       "    <tr>\n",
       "      <th>28</th>\n",
       "      <td>12.288750</td>\n",
       "      <td>9.476755</td>\n",
       "    </tr>\n",
       "    <tr>\n",
       "      <th>29</th>\n",
       "      <td>8.018707</td>\n",
       "      <td>12.644499</td>\n",
       "    </tr>\n",
       "    <tr>\n",
       "      <th>...</th>\n",
       "      <td>...</td>\n",
       "      <td>...</td>\n",
       "    </tr>\n",
       "    <tr>\n",
       "      <th>11552</th>\n",
       "      <td>8.078178</td>\n",
       "      <td>5.321842</td>\n",
       "    </tr>\n",
       "    <tr>\n",
       "      <th>11553</th>\n",
       "      <td>8.361127</td>\n",
       "      <td>5.052681</td>\n",
       "    </tr>\n",
       "    <tr>\n",
       "      <th>11554</th>\n",
       "      <td>8.335250</td>\n",
       "      <td>4.975526</td>\n",
       "    </tr>\n",
       "    <tr>\n",
       "      <th>11555</th>\n",
       "      <td>8.321913</td>\n",
       "      <td>4.944463</td>\n",
       "    </tr>\n",
       "    <tr>\n",
       "      <th>11556</th>\n",
       "      <td>8.310111</td>\n",
       "      <td>4.951261</td>\n",
       "    </tr>\n",
       "    <tr>\n",
       "      <th>11557</th>\n",
       "      <td>8.283277</td>\n",
       "      <td>10.093302</td>\n",
       "    </tr>\n",
       "    <tr>\n",
       "      <th>11558</th>\n",
       "      <td>8.305747</td>\n",
       "      <td>10.422822</td>\n",
       "    </tr>\n",
       "    <tr>\n",
       "      <th>11559</th>\n",
       "      <td>7.961504</td>\n",
       "      <td>9.937902</td>\n",
       "    </tr>\n",
       "    <tr>\n",
       "      <th>11560</th>\n",
       "      <td>7.743087</td>\n",
       "      <td>11.095801</td>\n",
       "    </tr>\n",
       "    <tr>\n",
       "      <th>11561</th>\n",
       "      <td>7.718310</td>\n",
       "      <td>11.057663</td>\n",
       "    </tr>\n",
       "    <tr>\n",
       "      <th>11562</th>\n",
       "      <td>8.966927</td>\n",
       "      <td>11.716449</td>\n",
       "    </tr>\n",
       "    <tr>\n",
       "      <th>11563</th>\n",
       "      <td>8.964154</td>\n",
       "      <td>11.664435</td>\n",
       "    </tr>\n",
       "    <tr>\n",
       "      <th>11564</th>\n",
       "      <td>4.379268</td>\n",
       "      <td>13.152268</td>\n",
       "    </tr>\n",
       "    <tr>\n",
       "      <th>11565</th>\n",
       "      <td>4.305026</td>\n",
       "      <td>11.161217</td>\n",
       "    </tr>\n",
       "    <tr>\n",
       "      <th>11566</th>\n",
       "      <td>3.637513</td>\n",
       "      <td>11.625249</td>\n",
       "    </tr>\n",
       "    <tr>\n",
       "      <th>11567</th>\n",
       "      <td>7.920450</td>\n",
       "      <td>5.014083</td>\n",
       "    </tr>\n",
       "    <tr>\n",
       "      <th>11568</th>\n",
       "      <td>4.119110</td>\n",
       "      <td>11.567596</td>\n",
       "    </tr>\n",
       "    <tr>\n",
       "      <th>11569</th>\n",
       "      <td>5.063314</td>\n",
       "      <td>11.531043</td>\n",
       "    </tr>\n",
       "    <tr>\n",
       "      <th>11570</th>\n",
       "      <td>4.200989</td>\n",
       "      <td>12.333773</td>\n",
       "    </tr>\n",
       "    <tr>\n",
       "      <th>11571</th>\n",
       "      <td>5.510382</td>\n",
       "      <td>10.998684</td>\n",
       "    </tr>\n",
       "    <tr>\n",
       "      <th>11572</th>\n",
       "      <td>6.555550</td>\n",
       "      <td>12.253967</td>\n",
       "    </tr>\n",
       "    <tr>\n",
       "      <th>11573</th>\n",
       "      <td>6.514803</td>\n",
       "      <td>11.163366</td>\n",
       "    </tr>\n",
       "    <tr>\n",
       "      <th>11574</th>\n",
       "      <td>4.937185</td>\n",
       "      <td>12.150954</td>\n",
       "    </tr>\n",
       "    <tr>\n",
       "      <th>11575</th>\n",
       "      <td>10.274778</td>\n",
       "      <td>12.371735</td>\n",
       "    </tr>\n",
       "    <tr>\n",
       "      <th>11576</th>\n",
       "      <td>3.227280</td>\n",
       "      <td>6.689941</td>\n",
       "    </tr>\n",
       "    <tr>\n",
       "      <th>11577</th>\n",
       "      <td>3.224103</td>\n",
       "      <td>6.933361</td>\n",
       "    </tr>\n",
       "    <tr>\n",
       "      <th>11578</th>\n",
       "      <td>3.267402</td>\n",
       "      <td>6.750282</td>\n",
       "    </tr>\n",
       "    <tr>\n",
       "      <th>11579</th>\n",
       "      <td>4.643124</td>\n",
       "      <td>7.690786</td>\n",
       "    </tr>\n",
       "    <tr>\n",
       "      <th>11580</th>\n",
       "      <td>4.558077</td>\n",
       "      <td>7.476864</td>\n",
       "    </tr>\n",
       "    <tr>\n",
       "      <th>11581</th>\n",
       "      <td>4.557973</td>\n",
       "      <td>7.470061</td>\n",
       "    </tr>\n",
       "  </tbody>\n",
       "</table>\n",
       "<p>11582 rows × 2 columns</p>\n",
       "</div>"
      ],
      "text/plain": [
       "       X_gps_longitude  X_gps_latitude\n",
       "0             6.879838        5.261363\n",
       "1             6.640483        6.845640\n",
       "2             6.641430        6.714820\n",
       "3             7.737949        5.065792\n",
       "4             6.880269        5.254864\n",
       "5             8.486672        9.794160\n",
       "6             6.939401        5.675088\n",
       "7             7.563946        4.947375\n",
       "8             7.914587        9.032754\n",
       "9             8.391062       11.730856\n",
       "10            8.376904       11.739570\n",
       "11            7.125853        5.935584\n",
       "12            6.789521        6.113946\n",
       "13            7.604209        4.994034\n",
       "14            7.870059        9.035730\n",
       "15            9.337707        9.713401\n",
       "16            7.947055        9.122902\n",
       "17            7.978990        9.156402\n",
       "18            8.795840       10.600608\n",
       "19            8.424016       11.713402\n",
       "20           10.440322       11.143060\n",
       "21            7.212890        9.105904\n",
       "22            7.215056        9.105811\n",
       "23            7.049999        4.801727\n",
       "24            8.123772       12.738454\n",
       "25            7.992612       12.717583\n",
       "26            3.368400        6.537775\n",
       "27            7.977982       12.635131\n",
       "28           12.288750        9.476755\n",
       "29            8.018707       12.644499\n",
       "...                ...             ...\n",
       "11552         8.078178        5.321842\n",
       "11553         8.361127        5.052681\n",
       "11554         8.335250        4.975526\n",
       "11555         8.321913        4.944463\n",
       "11556         8.310111        4.951261\n",
       "11557         8.283277       10.093302\n",
       "11558         8.305747       10.422822\n",
       "11559         7.961504        9.937902\n",
       "11560         7.743087       11.095801\n",
       "11561         7.718310       11.057663\n",
       "11562         8.966927       11.716449\n",
       "11563         8.964154       11.664435\n",
       "11564         4.379268       13.152268\n",
       "11565         4.305026       11.161217\n",
       "11566         3.637513       11.625249\n",
       "11567         7.920450        5.014083\n",
       "11568         4.119110       11.567596\n",
       "11569         5.063314       11.531043\n",
       "11570         4.200989       12.333773\n",
       "11571         5.510382       10.998684\n",
       "11572         6.555550       12.253967\n",
       "11573         6.514803       11.163366\n",
       "11574         4.937185       12.150954\n",
       "11575        10.274778       12.371735\n",
       "11576         3.227280        6.689941\n",
       "11577         3.224103        6.933361\n",
       "11578         3.267402        6.750282\n",
       "11579         4.643124        7.690786\n",
       "11580         4.558077        7.476864\n",
       "11581         4.557973        7.470061\n",
       "\n",
       "[11582 rows x 2 columns]"
      ]
     },
     "execution_count": 6,
     "metadata": {},
     "output_type": "execute_result"
    }
   ],
   "source": [
    "workwith"
   ]
  },
  {
   "cell_type": "markdown",
   "metadata": {},
   "source": [
    "## Kmeans Algorithm\n",
    "\n",
    "#### class"
   ]
  },
  {
   "cell_type": "code",
   "execution_count": 7,
   "metadata": {},
   "outputs": [],
   "source": [
    "class Kmeans:\n",
    "    '''\n",
    "        Implementing Kmeans algorithm.\n",
    "        The way kmeans algorithm works is as follows:\n",
    "        Specify number of clusters K.\n",
    "        Initialize centroids by first shuffling the dataset and then randomly selecting K data points for the centroids without replacement.\n",
    "        Keep iterating until there is no change to the centroids. i.e assignment of data points to clusters isn’t changing.\n",
    "        Compute the sum of the squared distance between data points and all centroids.\n",
    "        Assign each data point to the closest cluster (centroid).\n",
    "        Compute the centroids for the clusters by taking the average of the all data points that belong to each cluster.\n",
    "    '''\n",
    "\n",
    "    def __init__(self, n_clusters, max_iter=100, random_state=41):\n",
    "        self.n_clusters = n_clusters\n",
    "        self.max_iter = max_iter\n",
    "        self.random_state = random_state\n",
    "    \n",
    "    # Function to initialize centroid\n",
    "    #select centeroids at random\n",
    "    def initializ_centroids(self, X):\n",
    "        np.random.RandomState(self.random_state)\n",
    "        random_idx = np.random.permutation(X.shape[0])\n",
    "        centroids = X[random_idx[:self.n_clusters]]\n",
    "        return centroids\n",
    "    \n",
    "    # Compute Centroid \n",
    "    def compute_centroids(self, X, labels):\n",
    "        centroids = np.zeros((self.n_clusters, X.shape[1]))\n",
    "        for k in range(self.n_clusters):\n",
    "            centroids[k, :] = np.mean(X[labels == k, :], axis=0)\n",
    "        return centroids\n",
    "    \n",
    "    # Compute the sum of the squared distance between data points and all \n",
    "    # centroids.\n",
    "    def compute_distance(self, X, centroids):\n",
    "        distance = np.zeros((X.shape[0], self.n_clusters))\n",
    "        for k in range(self.n_clusters):\n",
    "            row_norm = norm(X - centroids[k, :], axis=1)\n",
    "            distance[:, k] = np.square(row_norm)\n",
    "        return distance\n",
    "    \n",
    "    # Function to find the closest cluster\n",
    "    def find_closest_cluster(self, distance):\n",
    "        return np.argmin(distance, axis=1)\n",
    "\n",
    "    # Compute Sum of Square Error\n",
    "    def compute_sse(self, X, labels, centroids):\n",
    "        distance = np.zeros(X.shape[0])\n",
    "        for k in range(self.n_clusters):\n",
    "            distance[labels == k] = norm(X[labels == k] - centroids[k], axis=1)\n",
    "        return np.sum(np.square(distance))\n",
    "    \n",
    "    # Function to train\n",
    "    def fit(self, X):\n",
    "        self.centroids = self.initializ_centroids(X)\n",
    "        for i in range(self.max_iter):\n",
    "            old_centroids = self.centroids\n",
    "            distance = self.compute_distance(X, old_centroids)\n",
    "            self.labels = self.find_closest_cluster(distance)\n",
    "            self.centroids = self.compute_centroids(X, self.labels)\n",
    "            if np.all(old_centroids == self.centroids):\n",
    "                break\n",
    "        self.error = self.compute_sse(X, self.labels, self.centroids)\n",
    "    \n",
    "    # function to predict\n",
    "    def predict(self, X):\n",
    "        distance = self.compute_distance(X, old_centroids)\n",
    "        return self.find_closest_cluster(distance)"
   ]
  },
  {
   "cell_type": "markdown",
   "metadata": {},
   "source": [
    "### WCSS and Elbow Method"
   ]
  },
  {
   "cell_type": "code",
   "execution_count": 8,
   "metadata": {
    "scrolled": true
   },
   "outputs": [
    {
     "data": {
      "text/plain": [
       "Text(0, 0.5, 'WCSS')"
      ]
     },
     "execution_count": 8,
     "metadata": {},
     "output_type": "execute_result"
    },
    {
     "data": {
      "image/png": "[encoded data removed]",
      "text/plain": [
       "<Figure size 432x288 with 1 Axes>"
      ]
     },
     "metadata": {
      "needs_background": "light"
     },
     "output_type": "display_data"
    }
   ],
   "source": [
    "wcss=[]\n",
    "for i in range(1,7):\n",
    "    kmeans = KMeans(i)\n",
    "    kmeans.fit(workwith)\n",
    "    wcss_iter = kmeans.inertia_\n",
    "    wcss.append(wcss_iter)\n",
    "\n",
    "number_clusters = range(1,7)\n",
    "plt.plot(number_clusters,wcss)\n",
    "plt.title('The Elbow title')\n",
    "plt.xlabel('Number of clusters')\n",
    "plt.ylabel('WCSS')"
   ]
  },
  {
   "cell_type": "code",
   "execution_count": 9,
   "metadata": {
    "scrolled": true
   },
   "outputs": [
    {
     "data": {
      "text/html": [
       "<div>\n",
       "<style scoped>\n",
       "    .dataframe tbody tr th:only-of-type {\n",
       "        vertical-align: middle;\n",
       "    }\n",
       "\n",
       "    .dataframe tbody tr th {\n",
       "        vertical-align: top;\n",
       "    }\n",
       "\n",
       "    .dataframe thead th {\n",
       "        text-align: right;\n",
       "    }\n",
       "</style>\n",
       "<table border=\"1\" class=\"dataframe\">\n",
       "  <thead>\n",
       "    <tr style=\"text-align: right;\">\n",
       "      <th></th>\n",
       "      <th>X_gps_longitude</th>\n",
       "      <th>X_gps_latitude</th>\n",
       "    </tr>\n",
       "  </thead>\n",
       "  <tbody>\n",
       "    <tr>\n",
       "      <th>0</th>\n",
       "      <td>6.879838</td>\n",
       "      <td>5.261363</td>\n",
       "    </tr>\n",
       "  </tbody>\n",
       "</table>\n",
       "</div>"
      ],
      "text/plain": [
       "   X_gps_longitude  X_gps_latitude\n",
       "0         6.879838        5.261363"
      ]
     },
     "execution_count": 9,
     "metadata": {},
     "output_type": "execute_result"
    }
   ],
   "source": [
    "workwith.head(1)"
   ]
  },
  {
   "cell_type": "markdown",
   "metadata": {},
   "source": [
    "****Prediction****"
   ]
  },
  {
   "cell_type": "code",
   "execution_count": 10,
   "metadata": {},
   "outputs": [
    {
     "data": {
      "text/plain": [
       "array([4])"
      ]
     },
     "execution_count": 10,
     "metadata": {},
     "output_type": "execute_result"
    }
   ],
   "source": [
    "kmeans.predict(workwith.head(1))\n",
    "\n",
    "# Belongs to cluster Zero"
   ]
  },
  {
   "cell_type": "markdown",
   "metadata": {},
   "source": [
    "#### Cluster Visualization"
   ]
  },
  {
   "cell_type": "markdown",
   "metadata": {},
   "source": [
    "## Clustering based on Number of Zones"
   ]
  },
  {
   "cell_type": "code",
   "execution_count": 11,
   "metadata": {},
   "outputs": [
    {
     "data": {
      "text/plain": [
       "KMeans(algorithm='auto', copy_x=True, init='k-means++', max_iter=300,\n",
       "    n_clusters=6, n_init=10, n_jobs=None, precompute_distances='auto',\n",
       "    random_state=None, tol=0.0001, verbose=0)"
      ]
     },
     "execution_count": 11,
     "metadata": {},
     "output_type": "execute_result"
    }
   ],
   "source": [
    "kmeans = KMeans(6) # 6 Number os clusters\n",
    "kmeans.fit(workwith)"
   ]
  },
  {
   "cell_type": "code",
   "execution_count": 12,
   "metadata": {},
   "outputs": [
    {
     "data": {
      "text/plain": [
       "array([2, 2, 2, ..., 0, 0, 0])"
      ]
     },
     "execution_count": 12,
     "metadata": {},
     "output_type": "execute_result"
    }
   ],
   "source": [
    "identified_clusters = kmeans.fit_predict(workwith)\n",
    "identified_clusters"
   ]
  },
  {
   "cell_type": "code",
   "execution_count": 13,
   "metadata": {
    "scrolled": false
   },
   "outputs": [
    {
     "data": {
      "text/plain": [
       "<matplotlib.collections.PathCollection at 0x2d5c5e66ba8>"
      ]
     },
     "execution_count": 13,
     "metadata": {},
     "output_type": "execute_result"
    },
    {
     "data": {
      "image/png": "[encoded data removed]",
      "text/plain": [
       "<Figure size 432x288 with 1 Axes>"
      ]
     },
     "metadata": {
      "needs_background": "light"
     },
     "output_type": "display_data"
    }
   ],
   "source": [
    "data_with_clusters = workwith.copy()\n",
    "data_with_clusters['Clusters'] = identified_clusters \n",
    "plt.scatter(data_with_clusters['X_gps_longitude'],data_with_clusters['X_gps_latitude'],\\\n",
    "            c=data_with_clusters['Clusters'],cmap='rainbow')"
   ]
  },
  {
   "cell_type": "code",
   "execution_count": 14,
   "metadata": {},
   "outputs": [
    {
     "data": {
      "image/png": "[encoded data removed]",
      "text/plain": [
       "<Figure size 432x288 with 1 Axes>"
      ]
     },
     "metadata": {
      "needs_background": "light"
     },
     "output_type": "display_data"
    }
   ],
   "source": [
    "#loop through labels and plot each cluster\n",
    "for i, label in enumerate(data_with_clusters['Clusters'].unique()):\n",
    "    plt.scatter(x = data_with_clusters.loc[data_with_clusters['Clusters'] == label,'X_gps_longitude'],\\\n",
    "                y = data_with_clusters.loc[data_with_clusters['Clusters'] == label,'X_gps_latitude'],\\\n",
    "                color=customPalette[i])\n",
    "    \n",
    "     #add label\n",
    "    plt.annotate(label, \n",
    "                 data_with_clusters.loc[data_with_clusters['Clusters']==label,['X_gps_longitude','X_gps_latitude']].mean(),\n",
    "                 horizontalalignment='center',\n",
    "                 verticalalignment='center',\n",
    "                 size=20, weight='bold',\n",
    "                 color='white',\n",
    "                )#backgroundcolor=customPalette[i])"
   ]
  },
  {
   "cell_type": "markdown",
   "metadata": {},
   "source": [
    "## Clustering based on Number of states"
   ]
  },
  {
   "cell_type": "code",
   "execution_count": 15,
   "metadata": {},
   "outputs": [
    {
     "data": {
      "text/plain": [
       "KMeans(algorithm='auto', copy_x=True, init='k-means++', max_iter=300,\n",
       "    n_clusters=36, n_init=10, n_jobs=None, precompute_distances='auto',\n",
       "    random_state=None, tol=0.0001, verbose=0)"
      ]
     },
     "execution_count": 15,
     "metadata": {},
     "output_type": "execute_result"
    }
   ],
   "source": [
    "kmeans = KMeans(36) # 36 number of clusters\n",
    "kmeans.fit(workwith)"
   ]
  },
  {
   "cell_type": "code",
   "execution_count": 16,
   "metadata": {},
   "outputs": [
    {
     "data": {
      "text/plain": [
       "array([14, 17, 17, ...,  5, 31, 31])"
      ]
     },
     "execution_count": 16,
     "metadata": {},
     "output_type": "execute_result"
    }
   ],
   "source": [
    "identified_clusters = kmeans.fit_predict(workwith)\n",
    "identified_clusters"
   ]
  },
  {
   "cell_type": "code",
   "execution_count": 17,
   "metadata": {
    "scrolled": true
   },
   "outputs": [
    {
     "data": {
      "text/plain": [
       "<matplotlib.collections.PathCollection at 0x2d5c5fb3240>"
      ]
     },
     "execution_count": 17,
     "metadata": {},
     "output_type": "execute_result"
    },
    {
     "data": {
      "image/png": "[encoded data removed]",
      "text/plain": [
       "<Figure size 432x288 with 1 Axes>"
      ]
     },
     "metadata": {
      "needs_background": "light"
     },
     "output_type": "display_data"
    }
   ],
   "source": [
    "data_with_clusters = workwith.copy()\n",
    "data_with_clusters['Clusters'] = identified_clusters \n",
    "plt.scatter(data_with_clusters['X_gps_longitude'],data_with_clusters['X_gps_latitude'],\\\n",
    "            c=data_with_clusters['Clusters'],cmap='rainbow')"
   ]
  },
  {
   "cell_type": "markdown",
   "metadata": {},
   "source": [
    "### WCSS and Elbow Method"
   ]
  },
  {
   "cell_type": "code",
   "execution_count": 18,
   "metadata": {
    "scrolled": false
   },
   "outputs": [
    {
     "data": {
      "text/plain": [
       "Text(0, 0.5, 'WCSS')"
      ]
     },
     "execution_count": 18,
     "metadata": {},
     "output_type": "execute_result"
    },
    {
     "data": {
      "image/png": "[encoded data removed]",
      "text/plain": [
       "<Figure size 432x288 with 1 Axes>"
      ]
     },
     "metadata": {
      "needs_background": "light"
     },
     "output_type": "display_data"
    }
   ],
   "source": [
    "wcss=[]\n",
    "for i in range(1,37):\n",
    "    kmeans = KMeans(i)\n",
    "    kmeans.fit(workwith)\n",
    "    wcss_iter = kmeans.inertia_\n",
    "    wcss.append(wcss_iter)\n",
    "\n",
    "number_clusters = range(1,37)\n",
    "plt.plot(number_clusters,wcss)\n",
    "plt.title('The Elbow title')\n",
    "plt.xlabel('Number of clusters')\n",
    "plt.ylabel('WCSS')"
   ]
  },
  {
   "cell_type": "markdown",
   "metadata": {},
   "source": [
    "## Silhouette score"
   ]
  },
  {
   "cell_type": "markdown",
   "metadata": {},
   "source": [
    "We can automatically determine the best number of clusters, k, by selecting the model which yields the highest Silhouette score."
   ]
  },
  {
   "cell_type": "code",
   "execution_count": 19,
   "metadata": {},
   "outputs": [],
   "source": [
    "from sklearn.metrics import silhouette_score"
   ]
  },
  {
   "cell_type": "code",
   "execution_count": 20,
   "metadata": {},
   "outputs": [],
   "source": [
    "# Use silhouette score to find optimal number of clusters to segment the data\n",
    "num_clusters = np.arange(2,10)\n",
    "results = {}\n",
    "for size in num_clusters:\n",
    "    model = KMeans(n_clusters = size).fit(workwith)\n",
    "    predictions = model.predict(workwith)\n",
    "    results[size] = silhouette_score(workwith, predictions)\n",
    "\n",
    "best_size = max(results, key=results.get)"
   ]
  },
  {
   "cell_type": "code",
   "execution_count": 21,
   "metadata": {},
   "outputs": [
    {
     "data": {
      "text/plain": [
       "4"
      ]
     },
     "execution_count": 21,
     "metadata": {},
     "output_type": "execute_result"
    }
   ],
   "source": [
    "best_size"
   ]
  },
  {
   "cell_type": "markdown",
   "metadata": {},
   "source": [
    "##### Interesting ..."
   ]
  },
  {
   "cell_type": "markdown",
   "metadata": {},
   "source": [
    "## Clustering based on elbow method and Silhouette score suggestion\n",
    "\n",
    "Top 2 suggestion:\n",
    "* 4\n",
    "\n",
    "* 3\n",
    "\n",
    "##### using 4"
   ]
  },
  {
   "cell_type": "code",
   "execution_count": 22,
   "metadata": {
    "scrolled": true
   },
   "outputs": [
    {
     "data": {
      "text/plain": [
       "KMeans(algorithm='auto', copy_x=True, init='k-means++', max_iter=300,\n",
       "    n_clusters=4, n_init=10, n_jobs=None, precompute_distances='auto',\n",
       "    random_state=None, tol=0.0001, verbose=0)"
      ]
     },
     "execution_count": 22,
     "metadata": {},
     "output_type": "execute_result"
    }
   ],
   "source": [
    "kmeans = KMeans(4)\n",
    "kmeans.fit(workwith)"
   ]
  },
  {
   "cell_type": "code",
   "execution_count": 23,
   "metadata": {},
   "outputs": [
    {
     "data": {
      "text/plain": [
       "array([0, 0, 0, ..., 3, 3, 3])"
      ]
     },
     "execution_count": 23,
     "metadata": {},
     "output_type": "execute_result"
    }
   ],
   "source": [
    "identified_clusters = kmeans.fit_predict(workwith)\n",
    "identified_clusters"
   ]
  },
  {
   "cell_type": "code",
   "execution_count": 24,
   "metadata": {
    "scrolled": true
   },
   "outputs": [
    {
     "data": {
      "text/plain": [
       "<matplotlib.collections.PathCollection at 0x2d5c6080128>"
      ]
     },
     "execution_count": 24,
     "metadata": {},
     "output_type": "execute_result"
    },
    {
     "data": {
      "image/png": "[encoded data removed]",
      "text/plain": [
       "<Figure size 432x288 with 1 Axes>"
      ]
     },
     "metadata": {
      "needs_background": "light"
     },
     "output_type": "display_data"
    }
   ],
   "source": [
    "data_with_clusters = workwith.copy()\n",
    "data_with_clusters['Clusters'] = identified_clusters \n",
    "plt.scatter(data_with_clusters['X_gps_longitude'],data_with_clusters['X_gps_latitude'],\\\n",
    "            c=data_with_clusters['Clusters'],cmap='rainbow')"
   ]
  },
  {
   "cell_type": "code",
   "execution_count": 25,
   "metadata": {},
   "outputs": [
    {
     "data": {
      "image/png": "[encoded data removed]",
      "text/plain": [
       "<Figure size 432x288 with 1 Axes>"
      ]
     },
     "metadata": {
      "needs_background": "light"
     },
     "output_type": "display_data"
    }
   ],
   "source": [
    "#loop through labels and plot each cluster\n",
    "for i, label in enumerate(data_with_clusters['Clusters'].unique()):\n",
    "    plt.scatter(x = data_with_clusters.loc[data_with_clusters['Clusters'] == label,'X_gps_longitude'],\\\n",
    "                y = data_with_clusters.loc[data_with_clusters['Clusters'] == label,'X_gps_latitude'],\\\n",
    "                color=customPalette[i])\n",
    "                #c=data_with_clusters['Clusters'],cmap='rainbow')\n",
    "     #add label\n",
    "    plt.annotate(label, \n",
    "                 data_with_clusters.loc[data_with_clusters['Clusters']==label,['X_gps_longitude','X_gps_latitude']].mean(),\n",
    "                 horizontalalignment='center',\n",
    "                 verticalalignment='center',\n",
    "                 size=20, weight='bold',\n",
    "                 color='white',\n",
    "                 backgroundcolor=customPalette[i])"
   ]
  },
  {
   "cell_type": "markdown",
   "metadata": {},
   "source": [
    "##### using 3"
   ]
  },
  {
   "cell_type": "code",
   "execution_count": 26,
   "metadata": {
    "scrolled": true
   },
   "outputs": [
    {
     "data": {
      "text/plain": [
       "KMeans(algorithm='auto', copy_x=True, init='k-means++', max_iter=300,\n",
       "    n_clusters=3, n_init=10, n_jobs=None, precompute_distances='auto',\n",
       "    random_state=None, tol=0.0001, verbose=0)"
      ]
     },
     "execution_count": 26,
     "metadata": {},
     "output_type": "execute_result"
    }
   ],
   "source": [
    "kmeans = KMeans(3)\n",
    "kmeans.fit(workwith)"
   ]
  },
  {
   "cell_type": "code",
   "execution_count": 27,
   "metadata": {},
   "outputs": [
    {
     "data": {
      "text/plain": [
       "array([2, 2, 2, ..., 1, 1, 1])"
      ]
     },
     "execution_count": 27,
     "metadata": {},
     "output_type": "execute_result"
    }
   ],
   "source": [
    "identified_clusters = kmeans.fit_predict(workwith)\n",
    "identified_clusters"
   ]
  },
  {
   "cell_type": "code",
   "execution_count": 28,
   "metadata": {
    "scrolled": true
   },
   "outputs": [
    {
     "data": {
      "text/plain": [
       "<matplotlib.collections.PathCollection at 0x2d5c614e588>"
      ]
     },
     "execution_count": 28,
     "metadata": {},
     "output_type": "execute_result"
    },
    {
     "data": {
      "image/png": "[encoded data removed]",
      "text/plain": [
       "<Figure size 432x288 with 1 Axes>"
      ]
     },
     "metadata": {
      "needs_background": "light"
     },
     "output_type": "display_data"
    }
   ],
   "source": [
    "data_with_clusters = workwith.copy()\n",
    "data_with_clusters['Clusters'] = identified_clusters \n",
    "plt.scatter(data_with_clusters['X_gps_longitude'],data_with_clusters['X_gps_latitude'],\\\n",
    "            c=data_with_clusters['Clusters'],cmap='rainbow')"
   ]
  },
  {
   "cell_type": "code",
   "execution_count": 29,
   "metadata": {},
   "outputs": [
    {
     "data": {
      "image/png": "[encoded data removed]",
      "text/plain": [
       "<Figure size 432x288 with 1 Axes>"
      ]
     },
     "metadata": {
      "needs_background": "light"
     },
     "output_type": "display_data"
    }
   ],
   "source": [
    "#loop through labels and plot each cluster\n",
    "for i, label in enumerate(data_with_clusters['Clusters'].unique()):\n",
    "    plt.scatter(x = data_with_clusters.loc[data_with_clusters['Clusters'] == label,'X_gps_longitude'],\\\n",
    "                y = data_with_clusters.loc[data_with_clusters['Clusters'] == label,'X_gps_latitude'],\\\n",
    "                color=customPalette[i])\n",
    "                #c=data_with_clusters['Clusters'],cmap='rainbow')\n",
    "     #add label\n",
    "    plt.annotate(label, \n",
    "                 data_with_clusters.loc[data_with_clusters['Clusters']==label,['X_gps_longitude','X_gps_latitude']].mean(),\n",
    "                 horizontalalignment='center',\n",
    "                 verticalalignment='center',\n",
    "                 size=20, weight='bold',\n",
    "                 color='white',\n",
    "                 backgroundcolor=customPalette[i])"
   ]
  },
  {
   "cell_type": "code",
   "execution_count": 30,
   "metadata": {
    "scrolled": false
   },
   "outputs": [
    {
     "data": {
      "text/html": [
       "<div>\n",
       "<style scoped>\n",
       "    .dataframe tbody tr th:only-of-type {\n",
       "        vertical-align: middle;\n",
       "    }\n",
       "\n",
       "    .dataframe tbody tr th {\n",
       "        vertical-align: top;\n",
       "    }\n",
       "\n",
       "    .dataframe thead th {\n",
       "        text-align: right;\n",
       "    }\n",
       "</style>\n",
       "<table border=\"1\" class=\"dataframe\">\n",
       "  <thead>\n",
       "    <tr style=\"text-align: right;\">\n",
       "      <th></th>\n",
       "      <th>X_gps_longitude</th>\n",
       "      <th>X_gps_latitude</th>\n",
       "    </tr>\n",
       "  </thead>\n",
       "  <tbody>\n",
       "    <tr>\n",
       "      <th>0</th>\n",
       "      <td>6.879838</td>\n",
       "      <td>5.261363</td>\n",
       "    </tr>\n",
       "  </tbody>\n",
       "</table>\n",
       "</div>"
      ],
      "text/plain": [
       "   X_gps_longitude  X_gps_latitude\n",
       "0         6.879838        5.261363"
      ]
     },
     "execution_count": 30,
     "metadata": {},
     "output_type": "execute_result"
    }
   ],
   "source": [
    "workwith.head(1)"
   ]
  },
  {
   "cell_type": "markdown",
   "metadata": {},
   "source": [
    "****Prediction****"
   ]
  },
  {
   "cell_type": "code",
   "execution_count": 31,
   "metadata": {},
   "outputs": [
    {
     "data": {
      "text/plain": [
       "array([2])"
      ]
     },
     "execution_count": 31,
     "metadata": {},
     "output_type": "execute_result"
    }
   ],
   "source": [
    "kmeans.predict(workwith.head(1))"
   ]
  },
  {
   "cell_type": "markdown",
   "metadata": {},
   "source": [
    "### using KDTree\n",
    "\n",
    "This is used to determine in a cluster closest points to a given point in a cluter\n",
    "\n",
    "from scipy"
   ]
  },
  {
   "cell_type": "code",
   "execution_count": 32,
   "metadata": {},
   "outputs": [],
   "source": [
    "from scipy.spatial import KDTree\n",
    "kdtree = KDTree(workwith)\n",
    "d, i = kdtree.query(workwith.head(1), k = 1) # Return just one point"
   ]
  },
  {
   "cell_type": "code",
   "execution_count": 33,
   "metadata": {},
   "outputs": [
    {
     "data": {
      "text/plain": [
       "array([0])"
      ]
     },
     "execution_count": 33,
     "metadata": {},
     "output_type": "execute_result"
    }
   ],
   "source": [
    "i"
   ]
  },
  {
   "cell_type": "code",
   "execution_count": 34,
   "metadata": {},
   "outputs": [
    {
     "name": "stdout",
     "output_type": "stream",
     "text": [
      "closest point: X_gps_longitude    6.879838\n",
      "X_gps_latitude     5.261363\n",
      "Name: 0, dtype: float64\n"
     ]
    }
   ],
   "source": [
    "print(\"closest point:\", workwith.iloc[int(i)])"
   ]
  },
  {
   "cell_type": "markdown",
   "metadata": {},
   "source": [
    "***Model Exportation***"
   ]
  },
  {
   "cell_type": "code",
   "execution_count": 35,
   "metadata": {},
   "outputs": [],
   "source": [
    "import pickle\n",
    "pickle.dump(kdtree, open('cluster.pkl', 'wb'))"
   ]
  },
  {
   "cell_type": "markdown",
   "metadata": {},
   "source": [
    "****Return 10 Points****"
   ]
  },
  {
   "cell_type": "code",
   "execution_count": 36,
   "metadata": {},
   "outputs": [],
   "source": [
    "d, i = kdtree.query(workwith.head(1), k = 10)"
   ]
  },
  {
   "cell_type": "code",
   "execution_count": 37,
   "metadata": {
    "scrolled": true
   },
   "outputs": [
    {
     "name": "stdout",
     "output_type": "stream",
     "text": [
      "closest point: \n",
      "\n",
      "       X_gps_longitude  X_gps_latitude\n",
      "0             6.879838        5.261363\n",
      "4             6.880269        5.254864\n",
      "11132         6.874511        5.251133\n",
      "11278         6.874511        5.251133\n",
      "165           6.867466        5.268063\n",
      "11026         6.867466        5.268063\n",
      "11297         6.867466        5.268063\n",
      "11399         6.864503        5.201937\n",
      "11402         6.824953        5.314625\n",
      "11355         6.942106        5.309808 \n",
      "\n"
     ]
    }
   ],
   "source": [
    "print(\"closest point: \\n\")\n",
    "for x in i:\n",
    "    print(workwith.iloc[x],'\\n')"
   ]
  },
  {
   "cell_type": "code",
   "execution_count": 38,
   "metadata": {},
   "outputs": [],
   "source": [
    "for x in i:\n",
    "    nearest_points = workwith.iloc[x]"
   ]
  },
  {
   "cell_type": "markdown",
   "metadata": {},
   "source": [
    "#### Create Dataframe for the results"
   ]
  },
  {
   "cell_type": "code",
   "execution_count": 39,
   "metadata": {
    "scrolled": true
   },
   "outputs": [
    {
     "data": {
      "text/html": [
       "<div>\n",
       "<style scoped>\n",
       "    .dataframe tbody tr th:only-of-type {\n",
       "        vertical-align: middle;\n",
       "    }\n",
       "\n",
       "    .dataframe tbody tr th {\n",
       "        vertical-align: top;\n",
       "    }\n",
       "\n",
       "    .dataframe thead th {\n",
       "        text-align: right;\n",
       "    }\n",
       "</style>\n",
       "<table border=\"1\" class=\"dataframe\">\n",
       "  <thead>\n",
       "    <tr style=\"text-align: right;\">\n",
       "      <th></th>\n",
       "      <th>X_gps_longitude</th>\n",
       "      <th>X_gps_latitude</th>\n",
       "    </tr>\n",
       "  </thead>\n",
       "  <tbody>\n",
       "    <tr>\n",
       "      <th>0</th>\n",
       "      <td>6.879838</td>\n",
       "      <td>5.261363</td>\n",
       "    </tr>\n",
       "    <tr>\n",
       "      <th>4</th>\n",
       "      <td>6.880269</td>\n",
       "      <td>5.254864</td>\n",
       "    </tr>\n",
       "    <tr>\n",
       "      <th>11132</th>\n",
       "      <td>6.874511</td>\n",
       "      <td>5.251133</td>\n",
       "    </tr>\n",
       "    <tr>\n",
       "      <th>11278</th>\n",
       "      <td>6.874511</td>\n",
       "      <td>5.251133</td>\n",
       "    </tr>\n",
       "    <tr>\n",
       "      <th>165</th>\n",
       "      <td>6.867466</td>\n",
       "      <td>5.268063</td>\n",
       "    </tr>\n",
       "    <tr>\n",
       "      <th>11026</th>\n",
       "      <td>6.867466</td>\n",
       "      <td>5.268063</td>\n",
       "    </tr>\n",
       "    <tr>\n",
       "      <th>11297</th>\n",
       "      <td>6.867466</td>\n",
       "      <td>5.268063</td>\n",
       "    </tr>\n",
       "    <tr>\n",
       "      <th>11399</th>\n",
       "      <td>6.864503</td>\n",
       "      <td>5.201937</td>\n",
       "    </tr>\n",
       "    <tr>\n",
       "      <th>11402</th>\n",
       "      <td>6.824953</td>\n",
       "      <td>5.314625</td>\n",
       "    </tr>\n",
       "    <tr>\n",
       "      <th>11355</th>\n",
       "      <td>6.942106</td>\n",
       "      <td>5.309808</td>\n",
       "    </tr>\n",
       "  </tbody>\n",
       "</table>\n",
       "</div>"
      ],
      "text/plain": [
       "       X_gps_longitude  X_gps_latitude\n",
       "0             6.879838        5.261363\n",
       "4             6.880269        5.254864\n",
       "11132         6.874511        5.251133\n",
       "11278         6.874511        5.251133\n",
       "165           6.867466        5.268063\n",
       "11026         6.867466        5.268063\n",
       "11297         6.867466        5.268063\n",
       "11399         6.864503        5.201937\n",
       "11402         6.824953        5.314625\n",
       "11355         6.942106        5.309808"
      ]
     },
     "execution_count": 39,
     "metadata": {},
     "output_type": "execute_result"
    }
   ],
   "source": [
    "nearest_points"
   ]
  },
  {
   "cell_type": "markdown",
   "metadata": {},
   "source": [
    "#### From the main dataset return the following\n",
    "\n",
    "'facility_name'\n",
    "\n",
    "'facility_type'\n",
    "\n",
    "'community'\n",
    "\n",
    "'X_gps_longitude'\n",
    "\n",
    "'X_gps_latitude'"
   ]
  },
  {
   "cell_type": "code",
   "execution_count": 40,
   "metadata": {},
   "outputs": [],
   "source": [
    "nearby = df.iloc[nearest_points.index][['facility_name','facility_type','community','X_gps_longitude','X_gps_latitude']]"
   ]
  },
  {
   "cell_type": "code",
   "execution_count": 41,
   "metadata": {
    "scrolled": true
   },
   "outputs": [
    {
     "data": {
      "text/html": [
       "<div>\n",
       "<style scoped>\n",
       "    .dataframe tbody tr th:only-of-type {\n",
       "        vertical-align: middle;\n",
       "    }\n",
       "\n",
       "    .dataframe tbody tr th {\n",
       "        vertical-align: top;\n",
       "    }\n",
       "\n",
       "    .dataframe thead th {\n",
       "        text-align: right;\n",
       "    }\n",
       "</style>\n",
       "<table border=\"1\" class=\"dataframe\">\n",
       "  <thead>\n",
       "    <tr style=\"text-align: right;\">\n",
       "      <th></th>\n",
       "      <th>facility_name</th>\n",
       "      <th>facility_type</th>\n",
       "      <th>community</th>\n",
       "      <th>X_gps_longitude</th>\n",
       "      <th>X_gps_latitude</th>\n",
       "    </tr>\n",
       "  </thead>\n",
       "  <tbody>\n",
       "    <tr>\n",
       "      <th>0</th>\n",
       "      <td>St. Maryâs Maternity Home Umuapu</td>\n",
       "      <td>primary_health_centre</td>\n",
       "      <td>Umuapu</td>\n",
       "      <td>6.879838</td>\n",
       "      <td>5.261363</td>\n",
       "    </tr>\n",
       "    <tr>\n",
       "      <th>1</th>\n",
       "      <td>Precious Hospital &amp; Maternity Umuapu</td>\n",
       "      <td>primary_health_centre</td>\n",
       "      <td>Umuapu</td>\n",
       "      <td>6.880269</td>\n",
       "      <td>5.254864</td>\n",
       "    </tr>\n",
       "    <tr>\n",
       "      <th>2</th>\n",
       "      <td>Dayspring Hospital Umuapu</td>\n",
       "      <td>primary_health_centre</td>\n",
       "      <td>Umuapu</td>\n",
       "      <td>6.874511</td>\n",
       "      <td>5.251133</td>\n",
       "    </tr>\n",
       "    <tr>\n",
       "      <th>3</th>\n",
       "      <td>Dayspring Hospital Umuapu</td>\n",
       "      <td>primary_health_centre</td>\n",
       "      <td>Umuapu</td>\n",
       "      <td>6.874511</td>\n",
       "      <td>5.251133</td>\n",
       "    </tr>\n",
       "    <tr>\n",
       "      <th>4</th>\n",
       "      <td>Lovelyn Hospital Ltd Ihie Ohaji</td>\n",
       "      <td>primary_health_centre</td>\n",
       "      <td>Ihie</td>\n",
       "      <td>6.867466</td>\n",
       "      <td>5.268063</td>\n",
       "    </tr>\n",
       "    <tr>\n",
       "      <th>5</th>\n",
       "      <td>Lovelyn Hospital Ltd Ihie Ohaji</td>\n",
       "      <td>primary_health_centre</td>\n",
       "      <td>Ihie</td>\n",
       "      <td>6.867466</td>\n",
       "      <td>5.268063</td>\n",
       "    </tr>\n",
       "    <tr>\n",
       "      <th>6</th>\n",
       "      <td>Lovelyn Hospital Ltd Ihie Ohaji</td>\n",
       "      <td>primary_health_centre</td>\n",
       "      <td>Ihie</td>\n",
       "      <td>6.867466</td>\n",
       "      <td>5.268063</td>\n",
       "    </tr>\n",
       "    <tr>\n",
       "      <th>7</th>\n",
       "      <td>PHC Omerulu</td>\n",
       "      <td>primary_health_centre</td>\n",
       "      <td>Omerulu</td>\n",
       "      <td>6.864503</td>\n",
       "      <td>5.201937</td>\n",
       "    </tr>\n",
       "    <tr>\n",
       "      <th>8</th>\n",
       "      <td>Rompeter Medical Centre Obitti</td>\n",
       "      <td>primary_health_centre</td>\n",
       "      <td>Obitti</td>\n",
       "      <td>6.824953</td>\n",
       "      <td>5.314625</td>\n",
       "    </tr>\n",
       "    <tr>\n",
       "      <th>9</th>\n",
       "      <td>Ngozi Maternity Umuagwo</td>\n",
       "      <td>primary_health_centre</td>\n",
       "      <td>Umuagwo</td>\n",
       "      <td>6.942106</td>\n",
       "      <td>5.309808</td>\n",
       "    </tr>\n",
       "  </tbody>\n",
       "</table>\n",
       "</div>"
      ],
      "text/plain": [
       "                          facility_name          facility_type community  \\\n",
       "0    St. Maryâs Maternity Home Umuapu  primary_health_centre    Umuapu   \n",
       "1  Precious Hospital & Maternity Umuapu  primary_health_centre    Umuapu   \n",
       "2             Dayspring Hospital Umuapu  primary_health_centre    Umuapu   \n",
       "3             Dayspring Hospital Umuapu  primary_health_centre    Umuapu   \n",
       "4       Lovelyn Hospital Ltd Ihie Ohaji  primary_health_centre      Ihie   \n",
       "5       Lovelyn Hospital Ltd Ihie Ohaji  primary_health_centre      Ihie   \n",
       "6       Lovelyn Hospital Ltd Ihie Ohaji  primary_health_centre      Ihie   \n",
       "7                           PHC Omerulu  primary_health_centre   Omerulu   \n",
       "8        Rompeter Medical Centre Obitti  primary_health_centre    Obitti   \n",
       "9               Ngozi Maternity Umuagwo  primary_health_centre   Umuagwo   \n",
       "\n",
       "   X_gps_longitude  X_gps_latitude  \n",
       "0         6.879838        5.261363  \n",
       "1         6.880269        5.254864  \n",
       "2         6.874511        5.251133  \n",
       "3         6.874511        5.251133  \n",
       "4         6.867466        5.268063  \n",
       "5         6.867466        5.268063  \n",
       "6         6.867466        5.268063  \n",
       "7         6.864503        5.201937  \n",
       "8         6.824953        5.314625  \n",
       "9         6.942106        5.309808  "
      ]
     },
     "execution_count": 41,
     "metadata": {},
     "output_type": "execute_result"
    }
   ],
   "source": [
    "nearby.reset_index(drop=True, inplace=True)\n",
    "\n",
    "nearby"
   ]
  },
  {
   "cell_type": "markdown",
   "metadata": {},
   "source": [
    "#### Using KNN KDTree"
   ]
  },
  {
   "cell_type": "code",
   "execution_count": 42,
   "metadata": {
    "scrolled": true
   },
   "outputs": [
    {
     "name": "stdout",
     "output_type": "stream",
     "text": [
      "closest point:\n",
      " X_gps_longitude    6.879838\n",
      "X_gps_latitude     5.261363\n",
      "Name: 0, dtype: float64\n"
     ]
    }
   ],
   "source": [
    "from sklearn.neighbors import KDTree\n",
    "kdtree = KDTree(workwith)\n",
    "d, i = kdtree.query(workwith.head(1), k = 1)\n",
    "print(\"closest point:\\n\",workwith.iloc[int(i)])"
   ]
  },
  {
   "cell_type": "code",
   "execution_count": 43,
   "metadata": {},
   "outputs": [
    {
     "data": {
      "text/plain": [
       "X_gps_longitude    6.879838\n",
       "X_gps_latitude     5.261363\n",
       "Name: 0, dtype: float64"
      ]
     },
     "execution_count": 43,
     "metadata": {},
     "output_type": "execute_result"
    }
   ],
   "source": [
    "workwith.iloc[int(i)]"
   ]
  },
  {
   "cell_type": "markdown",
   "metadata": {},
   "source": [
    "***Bonus Code***"
   ]
  },
  {
   "cell_type": "markdown",
   "metadata": {},
   "source": [
    "#### Function implementation of Kmeans Clustering"
   ]
  },
  {
   "cell_type": "code",
   "execution_count": 44,
   "metadata": {},
   "outputs": [],
   "source": [
    "import random\n",
    "def kmeans(X, k):\n",
    "    diff = 1\n",
    "    cluster = np.zeros(X.shape[0])\n",
    "\n",
    "    # select k random centroids\n",
    "    random_indices = np.random.choice(len(X), size=k, replace=False)\n",
    "    centroids = X[random_indices, :]\n",
    "\n",
    "    while diff:\n",
    "        # for each observation\n",
    "        for i, row in enumerate(X):\n",
    "\n",
    "              mn_dist = float('inf')\n",
    "              # dist of the point from all centroids\n",
    "              for idx, centroid in enumerate(centroids):\n",
    "                d = np.sqrt((centroid[0]-row[0])**2 + (centroid[1]-row[1])**2)\n",
    "\n",
    "                # store closest centroid \n",
    "                if mn_dist > d:\n",
    "                    mn_dist = d\n",
    "                    cluster[i] = idx\n",
    "\n",
    "        new_centroids = pd.DataFrame(X).groupby(by=cluster).mean().values\n",
    "\n",
    "        # if centroids are same then leave\n",
    "        if np.count_nonzero(centroids-new_centroids) == 0:\n",
    "            diff = 0\n",
    "        else:\n",
    "            centroids = new_centroids\n",
    "        return centroids, cluster"
   ]
  },
  {
   "cell_type": "markdown",
   "metadata": {},
   "source": [
    "### WCSS and Elbow Method"
   ]
  },
  {
   "cell_type": "code",
   "execution_count": 45,
   "metadata": {
    "scrolled": true
   },
   "outputs": [
    {
     "data": {
      "image/png": "[encoded data removed]",
      "text/plain": [
       "<Figure size 432x288 with 1 Axes>"
      ]
     },
     "metadata": {
      "needs_background": "light"
     },
     "output_type": "display_data"
    }
   ],
   "source": [
    "def calculate_cost(X, centroids, cluster):\n",
    "    sum = 0\n",
    "    for i, val in enumerate(X):\n",
    "        sum += np.sqrt((centroids[int(cluster[i]), 0]-val[0])**2 + (centroids[int(cluster[i]), 1]-val[1])**2)\n",
    "    return sum\n",
    "\n",
    "cost_list = []\n",
    "\n",
    "for k in range(1, 10):\n",
    "    centroids, cluster = kmeans(workwith.values, k)\n",
    "  \n",
    "    # WCSS (Within cluster sum of square)\n",
    "    cost = calculate_cost(workwith.values, centroids, cluster)\n",
    "    cost_list.append(cost)\n",
    "\n",
    "sns.lineplot(x=range(1,10), y=cost_list, marker='o')\n",
    "plt.xlabel('k')\n",
    "plt.ylabel('WCSS')\n",
    "plt.show()"
   ]
  },
  {
   "cell_type": "code",
   "execution_count": 46,
   "metadata": {},
   "outputs": [],
   "source": [
    "k = 6\n",
    "centroids, cluster = kmeans(workwith.values, k)"
   ]
  },
  {
   "cell_type": "code",
   "execution_count": 47,
   "metadata": {
    "scrolled": true
   },
   "outputs": [
    {
     "data": {
      "image/png": "[encoded data removed]",
      "text/plain": [
       "<Figure size 432x288 with 1 Axes>"
      ]
     },
     "metadata": {
      "needs_background": "light"
     },
     "output_type": "display_data"
    }
   ],
   "source": [
    "sns.scatterplot(workwith.values[:,0], workwith.values[:, 1], hue=cluster,cmap='rainbow')\n",
    "sns.scatterplot(centroids[:,0], centroids[:, 1], s=100, color='y')\n",
    "\n",
    "plt.xlabel('X_gps_Longitude')\n",
    "plt.ylabel('X_gps_Latitude')\n",
    "plt.show()"
   ]
  },
  {
   "cell_type": "markdown",
   "metadata": {},
   "source": [
    "### Job Fantastically Done"
   ]
  }
 ],
 "metadata": {
  "kernelspec": {
   "display_name": "Python 3",
   "language": "python",
   "name": "python3"
  },
  "language_info": {
   "codemirror_mode": {
    "name": "ipython",
    "version": 3
   },
   "file_extension": ".py",
   "mimetype": "text/x-python",
   "name": "python",
   "nbconvert_exporter": "python",
   "pygments_lexer": "ipython3",
   "version": "3.7.1"
  }
 },
 "nbformat": 4,
 "nbformat_minor": 2
}
