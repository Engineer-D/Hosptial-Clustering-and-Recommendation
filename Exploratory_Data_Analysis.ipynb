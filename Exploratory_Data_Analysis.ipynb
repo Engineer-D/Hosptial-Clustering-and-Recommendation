{
 "cells": [
  {
   "cell_type": "markdown",
   "metadata": {},
   "source": [
    "### Importing Necessary Library"
   ]
  },
  {
   "cell_type": "code",
   "execution_count": 1,
   "metadata": {},
   "outputs": [],
   "source": [
    "import pandas as pd\n",
    "import numpy as np\n",
    "import seaborn as sns\n",
    "\n",
    "%matplotlib inline"
   ]
  },
  {
   "cell_type": "code",
   "execution_count": 2,
   "metadata": {},
   "outputs": [],
   "source": [
    "pd.set_option('display.max_columns', None)\n",
    "pd.set_option('display.max_rows', None)"
   ]
  },
  {
   "cell_type": "markdown",
   "metadata": {},
   "source": [
    "### Read in the dataset"
   ]
  },
  {
   "cell_type": "code",
   "execution_count": 3,
   "metadata": {},
   "outputs": [],
   "source": [
    "df = pd.read_csv('Health_Dataset.csv')"
   ]
  },
  {
   "cell_type": "markdown",
   "metadata": {},
   "source": [
    "### Get info about the dataset"
   ]
  },
  {
   "cell_type": "code",
   "execution_count": 4,
   "metadata": {
    "scrolled": true
   },
   "outputs": [
    {
     "name": "stdout",
     "output_type": "stream",
     "text": [
      "<class 'pandas.core.frame.DataFrame'>\n",
      "RangeIndex: 11582 entries, 0 to 11581\n",
      "Data columns (total 97 columns):\n",
      "facility_list_yn                             11582 non-null object\n",
      "facility_ID                                  10674 non-null object\n",
      "enumerator_name                              11582 non-null object\n",
      "zone                                         11582 non-null object\n",
      "state                                        11582 non-null object\n",
      "lga                                          11489 non-null object\n",
      "ward                                         11582 non-null object\n",
      "community                                    11579 non-null object\n",
      "facility_name                                11582 non-null object\n",
      "facility_type                                11582 non-null object\n",
      "facility_type_dontknow                       240 non-null object\n",
      "management                                   11582 non-null object\n",
      "management_dontknow                          170 non-null object\n",
      "num_doctors_fulltime                         11192 non-null float64\n",
      "num_midwives_fulltime                        11186 non-null float64\n",
      "num_nurses_fulltime                          11180 non-null float64\n",
      "num_chews_fulltime                           11190 non-null float64\n",
      "num_staff_dontknow                           420 non-null object\n",
      "delivery_services                            11582 non-null object\n",
      "delivery_services_dontknow                   469 non-null object\n",
      "maternity_ward                               3300 non-null object\n",
      "maternity_ward_dontknow                      8 non-null object\n",
      "twentyfourseven_yn                           113 non-null object\n",
      "twentyfourseven_yn_dontknow                  0 non-null float64\n",
      "antenatal_care_yn                            11582 non-null object\n",
      "antenatal_care_yn_dontknow                   450 non-null object\n",
      "family_planning_yn                           11582 non-null object\n",
      "family_planning_yn_dontknow                  459 non-null object\n",
      "emergency_transport_ambulance                11582 non-null object\n",
      "emergency_transport_ambulance_dontknow       423 non-null object\n",
      "emergency_transport_30min                    9573 non-null object\n",
      "emergency_transport_30min_dontknow           5 non-null object\n",
      "emergency_transport                          11582 non-null object\n",
      "malaria_treatment_artemisinin                11582 non-null object\n",
      "malaria_treatment_artemisinin_dontknow       449 non-null object\n",
      "measles_yn                                   11582 non-null object\n",
      "measles_yn_dontknow                          438 non-null object\n",
      "vaccines_fridge_freezer                      11582 non-null object\n",
      "vaccines_fridge_freezer_dontknow             439 non-null object\n",
      "vaccines_transport                           11582 non-null object\n",
      "vaccines_transport_dontknow                  436 non-null object\n",
      "hiv_testing                                  11582 non-null object\n",
      "hiv_testing_dontknow                         440 non-null object\n",
      "hiv_treatment                                11582 non-null object\n",
      "hiv_treatment_dontknow                       438 non-null object\n",
      "tb_treatment                                 11582 non-null object\n",
      "tb_treatment_dontknow                        431 non-null object\n",
      "c_section_yn                                 11582 non-null object\n",
      "c_section_yn_dontknow                        426 non-null object\n",
      "improved_water_supply.handpump               11582 non-null bool\n",
      "improved_water_supply.tap                    11582 non-null bool\n",
      "improved_water_supply.protected_well         11582 non-null bool\n",
      "improved_water_supply.rainwater              11582 non-null bool\n",
      "improved_water_supply.none                   11582 non-null bool\n",
      "improved_water_functionality                 6367 non-null object\n",
      "improved_water_functionality_dontknow        5 non-null object\n",
      "improved_sanitation.vip_latrine              11582 non-null bool\n",
      "improved_sanitation.pit_latrine_with_slab    11582 non-null bool\n",
      "improved_sanitation.flush                    11582 non-null bool\n",
      "improved_sanitation.none                     11582 non-null bool\n",
      "num_toilets_total                            7063 non-null float64\n",
      "num_toilets_dontknow                         54 non-null object\n",
      "power_sources.grid                           11582 non-null bool\n",
      "power_sources.solar_system                   11582 non-null bool\n",
      "power_sources.generator                      11582 non-null bool\n",
      "power_sources.none                           11582 non-null bool\n",
      "phcn_electricity                             11582 non-null object\n",
      "phcn_functional                              5346 non-null object\n",
      "phcn_functional_dontknow                     23 non-null object\n",
      "solar_functional                             487 non-null object\n",
      "solar_functional_dontknow                    2 non-null object\n",
      "generator_functional                         4021 non-null object\n",
      "generator_functional_dontknow                10 non-null object\n",
      "grid_proximity_if_not_connected              6236 non-null object\n",
      "grid_proximity_dontknow                      573 non-null object\n",
      "grid_proximity                               11582 non-null object\n",
      "contact_name                                 11563 non-null object\n",
      "contact_phone                                10511 non-null float64\n",
      "contact_phone_dontknow                       1072 non-null object\n",
      "gps                                          11582 non-null object\n",
      "X_gps_latitude                               11582 non-null float64\n",
      "X_gps_longitude                              11582 non-null float64\n",
      "X_gps_altitude                               11582 non-null float64\n",
      "X_gps_precision                              11582 non-null float64\n",
      "photo_facility                               11582 non-null object\n",
      "photo_signboard                              6172 non-null object\n",
      "photo_repairs                                5351 non-null object\n",
      "start                                        11582 non-null object\n",
      "end                                          11582 non-null object\n",
      "deviceid                                     11582 non-null object\n",
      "subscriberid                                 9275 non-null object\n",
      "simserial                                    9383 non-null object\n",
      "date                                         11582 non-null object\n",
      "uuid                                         11582 non-null object\n",
      "instanceID                                   11582 non-null object\n",
      "X_uuid                                       11582 non-null object\n",
      "X_submission_time                            11582 non-null object\n",
      "dtypes: bool(13), float64(11), object(73)\n",
      "memory usage: 7.6+ MB\n"
     ]
    }
   ],
   "source": [
    "df.info()"
   ]
  },
  {
   "cell_type": "code",
   "execution_count": 91,
   "metadata": {},
   "outputs": [
    {
     "data": {
      "text/html": [
       "<div>\n",
       "<style scoped>\n",
       "    .dataframe tbody tr th:only-of-type {\n",
       "        vertical-align: middle;\n",
       "    }\n",
       "\n",
       "    .dataframe tbody tr th {\n",
       "        vertical-align: top;\n",
       "    }\n",
       "\n",
       "    .dataframe thead th {\n",
       "        text-align: right;\n",
       "    }\n",
       "</style>\n",
       "<table border=\"1\" class=\"dataframe\">\n",
       "  <thead>\n",
       "    <tr style=\"text-align: right;\">\n",
       "      <th></th>\n",
       "      <th>facility_list_yn</th>\n",
       "      <th>facility_ID</th>\n",
       "      <th>enumerator_name</th>\n",
       "      <th>zone</th>\n",
       "      <th>state</th>\n",
       "      <th>lga</th>\n",
       "      <th>ward</th>\n",
       "      <th>community</th>\n",
       "      <th>facility_name</th>\n",
       "      <th>facility_type</th>\n",
       "      <th>facility_type_dontknow</th>\n",
       "      <th>management</th>\n",
       "      <th>management_dontknow</th>\n",
       "      <th>num_doctors_fulltime</th>\n",
       "      <th>num_midwives_fulltime</th>\n",
       "      <th>num_nurses_fulltime</th>\n",
       "      <th>num_chews_fulltime</th>\n",
       "      <th>num_staff_dontknow</th>\n",
       "      <th>delivery_services</th>\n",
       "      <th>delivery_services_dontknow</th>\n",
       "      <th>maternity_ward</th>\n",
       "      <th>maternity_ward_dontknow</th>\n",
       "      <th>twentyfourseven_yn</th>\n",
       "      <th>twentyfourseven_yn_dontknow</th>\n",
       "      <th>antenatal_care_yn</th>\n",
       "      <th>antenatal_care_yn_dontknow</th>\n",
       "      <th>family_planning_yn</th>\n",
       "      <th>family_planning_yn_dontknow</th>\n",
       "      <th>emergency_transport_ambulance</th>\n",
       "      <th>emergency_transport_ambulance_dontknow</th>\n",
       "      <th>emergency_transport_30min</th>\n",
       "      <th>emergency_transport_30min_dontknow</th>\n",
       "      <th>emergency_transport</th>\n",
       "      <th>malaria_treatment_artemisinin</th>\n",
       "      <th>malaria_treatment_artemisinin_dontknow</th>\n",
       "      <th>measles_yn</th>\n",
       "      <th>measles_yn_dontknow</th>\n",
       "      <th>vaccines_fridge_freezer</th>\n",
       "      <th>vaccines_fridge_freezer_dontknow</th>\n",
       "      <th>vaccines_transport</th>\n",
       "      <th>vaccines_transport_dontknow</th>\n",
       "      <th>hiv_testing</th>\n",
       "      <th>hiv_testing_dontknow</th>\n",
       "      <th>hiv_treatment</th>\n",
       "      <th>hiv_treatment_dontknow</th>\n",
       "      <th>tb_treatment</th>\n",
       "      <th>tb_treatment_dontknow</th>\n",
       "      <th>c_section_yn</th>\n",
       "      <th>c_section_yn_dontknow</th>\n",
       "      <th>improved_water_supply.handpump</th>\n",
       "      <th>improved_water_supply.tap</th>\n",
       "      <th>improved_water_supply.protected_well</th>\n",
       "      <th>improved_water_supply.rainwater</th>\n",
       "      <th>improved_water_supply.none</th>\n",
       "      <th>improved_water_functionality</th>\n",
       "      <th>improved_water_functionality_dontknow</th>\n",
       "      <th>improved_sanitation.vip_latrine</th>\n",
       "      <th>improved_sanitation.pit_latrine_with_slab</th>\n",
       "      <th>improved_sanitation.flush</th>\n",
       "      <th>improved_sanitation.none</th>\n",
       "      <th>num_toilets_total</th>\n",
       "      <th>num_toilets_dontknow</th>\n",
       "      <th>power_sources.grid</th>\n",
       "      <th>power_sources.solar_system</th>\n",
       "      <th>power_sources.generator</th>\n",
       "      <th>power_sources.none</th>\n",
       "      <th>phcn_electricity</th>\n",
       "      <th>phcn_functional</th>\n",
       "      <th>phcn_functional_dontknow</th>\n",
       "      <th>solar_functional</th>\n",
       "      <th>solar_functional_dontknow</th>\n",
       "      <th>generator_functional</th>\n",
       "      <th>generator_functional_dontknow</th>\n",
       "      <th>grid_proximity_if_not_connected</th>\n",
       "      <th>grid_proximity_dontknow</th>\n",
       "      <th>grid_proximity</th>\n",
       "      <th>contact_name</th>\n",
       "      <th>contact_phone</th>\n",
       "      <th>contact_phone_dontknow</th>\n",
       "      <th>gps</th>\n",
       "      <th>X_gps_latitude</th>\n",
       "      <th>X_gps_longitude</th>\n",
       "      <th>X_gps_altitude</th>\n",
       "      <th>X_gps_precision</th>\n",
       "      <th>photo_facility</th>\n",
       "      <th>photo_signboard</th>\n",
       "      <th>photo_repairs</th>\n",
       "      <th>start</th>\n",
       "      <th>end</th>\n",
       "      <th>deviceid</th>\n",
       "      <th>subscriberid</th>\n",
       "      <th>simserial</th>\n",
       "      <th>date</th>\n",
       "      <th>uuid</th>\n",
       "      <th>instanceID</th>\n",
       "      <th>X_uuid</th>\n",
       "      <th>X_submission_time</th>\n",
       "    </tr>\n",
       "  </thead>\n",
       "  <tbody>\n",
       "    <tr>\n",
       "      <th>0</th>\n",
       "      <td>yes</td>\n",
       "      <td>LZPU</td>\n",
       "      <td>Onwuka Clement</td>\n",
       "      <td>south_east</td>\n",
       "      <td>imo</td>\n",
       "      <td>imo_ohaji_egbema</td>\n",
       "      <td>Umuapu</td>\n",
       "      <td>Umuapu</td>\n",
       "      <td>St. Maryâs Maternity Home Umuapu</td>\n",
       "      <td>primary_health_centre</td>\n",
       "      <td>NaN</td>\n",
       "      <td>private_profit</td>\n",
       "      <td>NaN</td>\n",
       "      <td>1.0</td>\n",
       "      <td>1.0</td>\n",
       "      <td>1.0</td>\n",
       "      <td>0.0</td>\n",
       "      <td>NaN</td>\n",
       "      <td>yes</td>\n",
       "      <td>NaN</td>\n",
       "      <td>NaN</td>\n",
       "      <td>NaN</td>\n",
       "      <td>NaN</td>\n",
       "      <td>NaN</td>\n",
       "      <td>yes</td>\n",
       "      <td>NaN</td>\n",
       "      <td>no</td>\n",
       "      <td>NaN</td>\n",
       "      <td>no</td>\n",
       "      <td>NaN</td>\n",
       "      <td>yes</td>\n",
       "      <td>NaN</td>\n",
       "      <td>yes</td>\n",
       "      <td>yes</td>\n",
       "      <td>NaN</td>\n",
       "      <td>no</td>\n",
       "      <td>NaN</td>\n",
       "      <td>no</td>\n",
       "      <td>NaN</td>\n",
       "      <td>no</td>\n",
       "      <td>NaN</td>\n",
       "      <td>no</td>\n",
       "      <td>NaN</td>\n",
       "      <td>no</td>\n",
       "      <td>NaN</td>\n",
       "      <td>no</td>\n",
       "      <td>NaN</td>\n",
       "      <td>no</td>\n",
       "      <td>NaN</td>\n",
       "      <td>False</td>\n",
       "      <td>False</td>\n",
       "      <td>False</td>\n",
       "      <td>False</td>\n",
       "      <td>True</td>\n",
       "      <td>NaN</td>\n",
       "      <td>NaN</td>\n",
       "      <td>False</td>\n",
       "      <td>True</td>\n",
       "      <td>False</td>\n",
       "      <td>False</td>\n",
       "      <td>3.0</td>\n",
       "      <td>NaN</td>\n",
       "      <td>True</td>\n",
       "      <td>False</td>\n",
       "      <td>False</td>\n",
       "      <td>False</td>\n",
       "      <td>yes</td>\n",
       "      <td>no</td>\n",
       "      <td>NaN</td>\n",
       "      <td>NaN</td>\n",
       "      <td>NaN</td>\n",
       "      <td>NaN</td>\n",
       "      <td>NaN</td>\n",
       "      <td>NaN</td>\n",
       "      <td>NaN</td>\n",
       "      <td>connected</td>\n",
       "      <td>Mrs. Pauline Onwuzuruike</td>\n",
       "      <td>7.034440e+09</td>\n",
       "      <td>NaN</td>\n",
       "      <td>5.2613627 6.87983823 57.099998474121094 5.0</td>\n",
       "      <td>5.261363</td>\n",
       "      <td>6.879838</td>\n",
       "      <td>57.099998</td>\n",
       "      <td>5.0</td>\n",
       "      <td>1396576075046.jpg</td>\n",
       "      <td>1396576266230.jpg</td>\n",
       "      <td>1396576104969.jpg</td>\n",
       "      <td>2014-04-04 02:32:10</td>\n",
       "      <td>2014-04-06 19:40:02</td>\n",
       "      <td>358593044259754</td>\n",
       "      <td>621300250495359</td>\n",
       "      <td>89234010001281022165</td>\n",
       "      <td>2014-04-04</td>\n",
       "      <td>7af94a02-654f-4f6f-9c60-877de15cbfb6</td>\n",
       "      <td>uuid:62049bde-1625-4714-aee6-fe26c54f8f5b</td>\n",
       "      <td>62049bde-1625-4714-aee6-fe26c54f8f5b</td>\n",
       "      <td>2014-04-14T08:01:49</td>\n",
       "    </tr>\n",
       "    <tr>\n",
       "      <th>1</th>\n",
       "      <td>yes</td>\n",
       "      <td>OQWV</td>\n",
       "      <td>Fred Abdul</td>\n",
       "      <td>north_central</td>\n",
       "      <td>kogi</td>\n",
       "      <td>kogi_ibaji</td>\n",
       "      <td>Iyano</td>\n",
       "      <td>Ojuolofe</td>\n",
       "      <td>PHCC Ojuolofe</td>\n",
       "      <td>primary_health_centre</td>\n",
       "      <td>NaN</td>\n",
       "      <td>local_gov</td>\n",
       "      <td>NaN</td>\n",
       "      <td>0.0</td>\n",
       "      <td>0.0</td>\n",
       "      <td>0.0</td>\n",
       "      <td>1.0</td>\n",
       "      <td>NaN</td>\n",
       "      <td>yes</td>\n",
       "      <td>NaN</td>\n",
       "      <td>NaN</td>\n",
       "      <td>NaN</td>\n",
       "      <td>NaN</td>\n",
       "      <td>NaN</td>\n",
       "      <td>no</td>\n",
       "      <td>NaN</td>\n",
       "      <td>no</td>\n",
       "      <td>NaN</td>\n",
       "      <td>no</td>\n",
       "      <td>NaN</td>\n",
       "      <td>no</td>\n",
       "      <td>NaN</td>\n",
       "      <td>no</td>\n",
       "      <td>yes</td>\n",
       "      <td>NaN</td>\n",
       "      <td>yes</td>\n",
       "      <td>NaN</td>\n",
       "      <td>no</td>\n",
       "      <td>NaN</td>\n",
       "      <td>yes</td>\n",
       "      <td>NaN</td>\n",
       "      <td>no</td>\n",
       "      <td>NaN</td>\n",
       "      <td>no</td>\n",
       "      <td>NaN</td>\n",
       "      <td>no</td>\n",
       "      <td>NaN</td>\n",
       "      <td>no</td>\n",
       "      <td>NaN</td>\n",
       "      <td>False</td>\n",
       "      <td>False</td>\n",
       "      <td>False</td>\n",
       "      <td>False</td>\n",
       "      <td>True</td>\n",
       "      <td>NaN</td>\n",
       "      <td>NaN</td>\n",
       "      <td>False</td>\n",
       "      <td>True</td>\n",
       "      <td>False</td>\n",
       "      <td>False</td>\n",
       "      <td>1.0</td>\n",
       "      <td>NaN</td>\n",
       "      <td>False</td>\n",
       "      <td>False</td>\n",
       "      <td>False</td>\n",
       "      <td>True</td>\n",
       "      <td>no</td>\n",
       "      <td>NaN</td>\n",
       "      <td>NaN</td>\n",
       "      <td>NaN</td>\n",
       "      <td>NaN</td>\n",
       "      <td>NaN</td>\n",
       "      <td>NaN</td>\n",
       "      <td>beyond_500m</td>\n",
       "      <td>NaN</td>\n",
       "      <td>beyond_500m</td>\n",
       "      <td>Egwuda Mary</td>\n",
       "      <td>8.069272e+09</td>\n",
       "      <td>NaN</td>\n",
       "      <td>6.8456399999999995 6.640483333333333 55.8 5.0</td>\n",
       "      <td>6.845640</td>\n",
       "      <td>6.640483</td>\n",
       "      <td>55.800000</td>\n",
       "      <td>5.0</td>\n",
       "      <td>1397574680952.jpg</td>\n",
       "      <td>NaN</td>\n",
       "      <td>1397575031342.jpg</td>\n",
       "      <td>2014-04-15 15:53:45</td>\n",
       "      <td>2014-04-16 07:15:40</td>\n",
       "      <td>351649060465084</td>\n",
       "      <td>621300154559270</td>\n",
       "      <td>89234010001821729857</td>\n",
       "      <td>2014-04-15</td>\n",
       "      <td>b121ffca-175d-49e5-ade4-a657b2109c1e</td>\n",
       "      <td>uuid:b98121ba-5aa3-47d4-9dfd-5722e2266f75</td>\n",
       "      <td>b98121ba-5aa3-47d4-9dfd-5722e2266f75</td>\n",
       "      <td>2014-04-17T17:30:17</td>\n",
       "    </tr>\n",
       "    <tr>\n",
       "      <th>2</th>\n",
       "      <td>yes</td>\n",
       "      <td>DDDW</td>\n",
       "      <td>Fred Abdul</td>\n",
       "      <td>north_central</td>\n",
       "      <td>kogi</td>\n",
       "      <td>kogi_ibaji</td>\n",
       "      <td>Ayah</td>\n",
       "      <td>Ojamukoje</td>\n",
       "      <td>Phcc Ojamukoje</td>\n",
       "      <td>primary_health_centre</td>\n",
       "      <td>NaN</td>\n",
       "      <td>local_gov</td>\n",
       "      <td>NaN</td>\n",
       "      <td>0.0</td>\n",
       "      <td>0.0</td>\n",
       "      <td>0.0</td>\n",
       "      <td>1.0</td>\n",
       "      <td>NaN</td>\n",
       "      <td>no</td>\n",
       "      <td>NaN</td>\n",
       "      <td>no</td>\n",
       "      <td>NaN</td>\n",
       "      <td>NaN</td>\n",
       "      <td>NaN</td>\n",
       "      <td>no</td>\n",
       "      <td>NaN</td>\n",
       "      <td>no</td>\n",
       "      <td>NaN</td>\n",
       "      <td>no</td>\n",
       "      <td>NaN</td>\n",
       "      <td>no</td>\n",
       "      <td>NaN</td>\n",
       "      <td>no</td>\n",
       "      <td>no</td>\n",
       "      <td>NaN</td>\n",
       "      <td>no</td>\n",
       "      <td>NaN</td>\n",
       "      <td>no</td>\n",
       "      <td>NaN</td>\n",
       "      <td>no</td>\n",
       "      <td>NaN</td>\n",
       "      <td>no</td>\n",
       "      <td>NaN</td>\n",
       "      <td>no</td>\n",
       "      <td>NaN</td>\n",
       "      <td>no</td>\n",
       "      <td>NaN</td>\n",
       "      <td>no</td>\n",
       "      <td>NaN</td>\n",
       "      <td>False</td>\n",
       "      <td>False</td>\n",
       "      <td>False</td>\n",
       "      <td>False</td>\n",
       "      <td>True</td>\n",
       "      <td>NaN</td>\n",
       "      <td>NaN</td>\n",
       "      <td>False</td>\n",
       "      <td>False</td>\n",
       "      <td>False</td>\n",
       "      <td>True</td>\n",
       "      <td>NaN</td>\n",
       "      <td>NaN</td>\n",
       "      <td>False</td>\n",
       "      <td>False</td>\n",
       "      <td>False</td>\n",
       "      <td>True</td>\n",
       "      <td>no</td>\n",
       "      <td>NaN</td>\n",
       "      <td>NaN</td>\n",
       "      <td>NaN</td>\n",
       "      <td>NaN</td>\n",
       "      <td>NaN</td>\n",
       "      <td>NaN</td>\n",
       "      <td>beyond_500m</td>\n",
       "      <td>NaN</td>\n",
       "      <td>beyond_500m</td>\n",
       "      <td>Stephen Anekwe</td>\n",
       "      <td>8.072410e+09</td>\n",
       "      <td>NaN</td>\n",
       "      <td>6.71482 6.641430000000001 20.9 4.7</td>\n",
       "      <td>6.714820</td>\n",
       "      <td>6.641430</td>\n",
       "      <td>20.900000</td>\n",
       "      <td>4.7</td>\n",
       "      <td>1397582452618.jpg</td>\n",
       "      <td>NaN</td>\n",
       "      <td>1397582469401.jpg</td>\n",
       "      <td>2014-04-15 18:12:02</td>\n",
       "      <td>2014-04-16 07:14:30</td>\n",
       "      <td>351649060465084</td>\n",
       "      <td>621300154559270</td>\n",
       "      <td>89234010001821729857</td>\n",
       "      <td>2014-04-15</td>\n",
       "      <td>9c64ba9c-dfd2-4d42-99a2-563fe0e6d625</td>\n",
       "      <td>uuid:cd1cf5fe-81ab-4311-95b2-de1ce792b5aa</td>\n",
       "      <td>cd1cf5fe-81ab-4311-95b2-de1ce792b5aa</td>\n",
       "      <td>2014-04-17T17:30:48</td>\n",
       "    </tr>\n",
       "    <tr>\n",
       "      <th>3</th>\n",
       "      <td>yes</td>\n",
       "      <td>pwep</td>\n",
       "      <td>Anthony Akpan</td>\n",
       "      <td>south_south</td>\n",
       "      <td>akwa_ibom</td>\n",
       "      <td>akwa_ibom_abak</td>\n",
       "      <td>Afaha Obong 1</td>\n",
       "      <td>Ikot Akpan Ikpong</td>\n",
       "      <td>Health Centre, Ikot Akpan Ikpong</td>\n",
       "      <td>primary_health_centre</td>\n",
       "      <td>NaN</td>\n",
       "      <td>local_gov</td>\n",
       "      <td>NaN</td>\n",
       "      <td>0.0</td>\n",
       "      <td>1.0</td>\n",
       "      <td>11.0</td>\n",
       "      <td>1.0</td>\n",
       "      <td>NaN</td>\n",
       "      <td>yes</td>\n",
       "      <td>NaN</td>\n",
       "      <td>NaN</td>\n",
       "      <td>NaN</td>\n",
       "      <td>NaN</td>\n",
       "      <td>NaN</td>\n",
       "      <td>yes</td>\n",
       "      <td>NaN</td>\n",
       "      <td>yes</td>\n",
       "      <td>NaN</td>\n",
       "      <td>no</td>\n",
       "      <td>NaN</td>\n",
       "      <td>no</td>\n",
       "      <td>NaN</td>\n",
       "      <td>no</td>\n",
       "      <td>yes</td>\n",
       "      <td>NaN</td>\n",
       "      <td>yes</td>\n",
       "      <td>NaN</td>\n",
       "      <td>no</td>\n",
       "      <td>NaN</td>\n",
       "      <td>yes</td>\n",
       "      <td>NaN</td>\n",
       "      <td>no</td>\n",
       "      <td>NaN</td>\n",
       "      <td>no</td>\n",
       "      <td>NaN</td>\n",
       "      <td>no</td>\n",
       "      <td>NaN</td>\n",
       "      <td>no</td>\n",
       "      <td>NaN</td>\n",
       "      <td>False</td>\n",
       "      <td>False</td>\n",
       "      <td>False</td>\n",
       "      <td>True</td>\n",
       "      <td>False</td>\n",
       "      <td>not_functional</td>\n",
       "      <td>NaN</td>\n",
       "      <td>False</td>\n",
       "      <td>False</td>\n",
       "      <td>True</td>\n",
       "      <td>False</td>\n",
       "      <td>2.0</td>\n",
       "      <td>NaN</td>\n",
       "      <td>True</td>\n",
       "      <td>False</td>\n",
       "      <td>False</td>\n",
       "      <td>False</td>\n",
       "      <td>yes</td>\n",
       "      <td>no</td>\n",
       "      <td>NaN</td>\n",
       "      <td>NaN</td>\n",
       "      <td>NaN</td>\n",
       "      <td>NaN</td>\n",
       "      <td>NaN</td>\n",
       "      <td>NaN</td>\n",
       "      <td>NaN</td>\n",
       "      <td>connected</td>\n",
       "      <td>Mrs Paulina Gabriel Abia</td>\n",
       "      <td>8.027847e+09</td>\n",
       "      <td>NaN</td>\n",
       "      <td>5.06579175 7.73794931 109.5 5.0</td>\n",
       "      <td>5.065792</td>\n",
       "      <td>7.737949</td>\n",
       "      <td>109.500000</td>\n",
       "      <td>5.0</td>\n",
       "      <td>1396444908019.jpg</td>\n",
       "      <td>1396445087250.jpg</td>\n",
       "      <td>NaN</td>\n",
       "      <td>2014-04-02 13:54:28</td>\n",
       "      <td>2014-04-02 14:27:27</td>\n",
       "      <td>358593044258392</td>\n",
       "      <td>NaN</td>\n",
       "      <td>NaN</td>\n",
       "      <td>2014-04-02</td>\n",
       "      <td>57803d68-5b2f-4663-8fb2-7fdcd84e062d</td>\n",
       "      <td>uuid:b80741ca-0b9a-4e4f-b39f-65c2dbd2b3cb</td>\n",
       "      <td>b80741ca-0b9a-4e4f-b39f-65c2dbd2b3cb</td>\n",
       "      <td>2014-04-14T08:02:52</td>\n",
       "    </tr>\n",
       "    <tr>\n",
       "      <th>4</th>\n",
       "      <td>yes</td>\n",
       "      <td>NCGG</td>\n",
       "      <td>Onwuka Clement</td>\n",
       "      <td>south_east</td>\n",
       "      <td>imo</td>\n",
       "      <td>imo_ohaji_egbema</td>\n",
       "      <td>Umuapu</td>\n",
       "      <td>Umuapu</td>\n",
       "      <td>Precious Hospital &amp; Maternity Umuapu</td>\n",
       "      <td>primary_health_centre</td>\n",
       "      <td>NaN</td>\n",
       "      <td>private_profit</td>\n",
       "      <td>NaN</td>\n",
       "      <td>1.0</td>\n",
       "      <td>1.0</td>\n",
       "      <td>1.0</td>\n",
       "      <td>0.0</td>\n",
       "      <td>NaN</td>\n",
       "      <td>yes</td>\n",
       "      <td>NaN</td>\n",
       "      <td>NaN</td>\n",
       "      <td>NaN</td>\n",
       "      <td>NaN</td>\n",
       "      <td>NaN</td>\n",
       "      <td>yes</td>\n",
       "      <td>NaN</td>\n",
       "      <td>no</td>\n",
       "      <td>NaN</td>\n",
       "      <td>no</td>\n",
       "      <td>NaN</td>\n",
       "      <td>yes</td>\n",
       "      <td>NaN</td>\n",
       "      <td>yes</td>\n",
       "      <td>yes</td>\n",
       "      <td>NaN</td>\n",
       "      <td>no</td>\n",
       "      <td>NaN</td>\n",
       "      <td>no</td>\n",
       "      <td>NaN</td>\n",
       "      <td>no</td>\n",
       "      <td>NaN</td>\n",
       "      <td>dk</td>\n",
       "      <td>Refer to lab. Centre around.</td>\n",
       "      <td>no</td>\n",
       "      <td>NaN</td>\n",
       "      <td>no</td>\n",
       "      <td>NaN</td>\n",
       "      <td>no</td>\n",
       "      <td>NaN</td>\n",
       "      <td>False</td>\n",
       "      <td>False</td>\n",
       "      <td>False</td>\n",
       "      <td>False</td>\n",
       "      <td>True</td>\n",
       "      <td>NaN</td>\n",
       "      <td>NaN</td>\n",
       "      <td>False</td>\n",
       "      <td>False</td>\n",
       "      <td>True</td>\n",
       "      <td>False</td>\n",
       "      <td>1.0</td>\n",
       "      <td>NaN</td>\n",
       "      <td>True</td>\n",
       "      <td>False</td>\n",
       "      <td>True</td>\n",
       "      <td>False</td>\n",
       "      <td>yes</td>\n",
       "      <td>no</td>\n",
       "      <td>NaN</td>\n",
       "      <td>NaN</td>\n",
       "      <td>NaN</td>\n",
       "      <td>yes</td>\n",
       "      <td>NaN</td>\n",
       "      <td>NaN</td>\n",
       "      <td>NaN</td>\n",
       "      <td>connected</td>\n",
       "      <td>Dr. Donald Mmaju</td>\n",
       "      <td>8.066601e+09</td>\n",
       "      <td>NaN</td>\n",
       "      <td>5.25486386 6.88026913 71.0999984741211 5.0</td>\n",
       "      <td>5.254864</td>\n",
       "      <td>6.880269</td>\n",
       "      <td>71.099998</td>\n",
       "      <td>5.0</td>\n",
       "      <td>1396577373182.jpg</td>\n",
       "      <td>1396577416618.jpg</td>\n",
       "      <td>1396577442179.jpg</td>\n",
       "      <td>2014-04-04 02:55:23</td>\n",
       "      <td>2014-04-06 19:35:28</td>\n",
       "      <td>358593044259754</td>\n",
       "      <td>621300250495359</td>\n",
       "      <td>89234010001281022165</td>\n",
       "      <td>2014-04-04</td>\n",
       "      <td>f44879b5-82f2-4bc4-baaa-c007f47b5032</td>\n",
       "      <td>uuid:28d00670-24f1-4fd6-913a-e1ef6f420a4b</td>\n",
       "      <td>28d00670-24f1-4fd6-913a-e1ef6f420a4b</td>\n",
       "      <td>2014-04-14T08:03:38</td>\n",
       "    </tr>\n",
       "  </tbody>\n",
       "</table>\n",
       "</div>"
      ],
      "text/plain": [
       "  facility_list_yn facility_ID enumerator_name           zone      state  \\\n",
       "0              yes        LZPU  Onwuka Clement     south_east        imo   \n",
       "1              yes        OQWV      Fred Abdul  north_central       kogi   \n",
       "2              yes        DDDW      Fred Abdul  north_central       kogi   \n",
       "3              yes        pwep   Anthony Akpan    south_south  akwa_ibom   \n",
       "4              yes        NCGG  Onwuka Clement     south_east        imo   \n",
       "\n",
       "                lga           ward          community  \\\n",
       "0  imo_ohaji_egbema         Umuapu             Umuapu   \n",
       "1        kogi_ibaji          Iyano           Ojuolofe   \n",
       "2        kogi_ibaji           Ayah          Ojamukoje   \n",
       "3    akwa_ibom_abak  Afaha Obong 1  Ikot Akpan Ikpong   \n",
       "4  imo_ohaji_egbema         Umuapu             Umuapu   \n",
       "\n",
       "                          facility_name          facility_type  \\\n",
       "0    St. Maryâs Maternity Home Umuapu  primary_health_centre   \n",
       "1                         PHCC Ojuolofe  primary_health_centre   \n",
       "2                        Phcc Ojamukoje  primary_health_centre   \n",
       "3      Health Centre, Ikot Akpan Ikpong  primary_health_centre   \n",
       "4  Precious Hospital & Maternity Umuapu  primary_health_centre   \n",
       "\n",
       "  facility_type_dontknow      management management_dontknow  \\\n",
       "0                    NaN  private_profit                 NaN   \n",
       "1                    NaN       local_gov                 NaN   \n",
       "2                    NaN       local_gov                 NaN   \n",
       "3                    NaN       local_gov                 NaN   \n",
       "4                    NaN  private_profit                 NaN   \n",
       "\n",
       "   num_doctors_fulltime  num_midwives_fulltime  num_nurses_fulltime  \\\n",
       "0                   1.0                    1.0                  1.0   \n",
       "1                   0.0                    0.0                  0.0   \n",
       "2                   0.0                    0.0                  0.0   \n",
       "3                   0.0                    1.0                 11.0   \n",
       "4                   1.0                    1.0                  1.0   \n",
       "\n",
       "   num_chews_fulltime num_staff_dontknow delivery_services  \\\n",
       "0                 0.0                NaN               yes   \n",
       "1                 1.0                NaN               yes   \n",
       "2                 1.0                NaN                no   \n",
       "3                 1.0                NaN               yes   \n",
       "4                 0.0                NaN               yes   \n",
       "\n",
       "  delivery_services_dontknow maternity_ward maternity_ward_dontknow  \\\n",
       "0                        NaN            NaN                     NaN   \n",
       "1                        NaN            NaN                     NaN   \n",
       "2                        NaN             no                     NaN   \n",
       "3                        NaN            NaN                     NaN   \n",
       "4                        NaN            NaN                     NaN   \n",
       "\n",
       "  twentyfourseven_yn  twentyfourseven_yn_dontknow antenatal_care_yn  \\\n",
       "0                NaN                          NaN               yes   \n",
       "1                NaN                          NaN                no   \n",
       "2                NaN                          NaN                no   \n",
       "3                NaN                          NaN               yes   \n",
       "4                NaN                          NaN               yes   \n",
       "\n",
       "  antenatal_care_yn_dontknow family_planning_yn family_planning_yn_dontknow  \\\n",
       "0                        NaN                 no                         NaN   \n",
       "1                        NaN                 no                         NaN   \n",
       "2                        NaN                 no                         NaN   \n",
       "3                        NaN                yes                         NaN   \n",
       "4                        NaN                 no                         NaN   \n",
       "\n",
       "  emergency_transport_ambulance emergency_transport_ambulance_dontknow  \\\n",
       "0                            no                                    NaN   \n",
       "1                            no                                    NaN   \n",
       "2                            no                                    NaN   \n",
       "3                            no                                    NaN   \n",
       "4                            no                                    NaN   \n",
       "\n",
       "  emergency_transport_30min emergency_transport_30min_dontknow  \\\n",
       "0                       yes                                NaN   \n",
       "1                        no                                NaN   \n",
       "2                        no                                NaN   \n",
       "3                        no                                NaN   \n",
       "4                       yes                                NaN   \n",
       "\n",
       "  emergency_transport malaria_treatment_artemisinin  \\\n",
       "0                 yes                           yes   \n",
       "1                  no                           yes   \n",
       "2                  no                            no   \n",
       "3                  no                           yes   \n",
       "4                 yes                           yes   \n",
       "\n",
       "  malaria_treatment_artemisinin_dontknow measles_yn measles_yn_dontknow  \\\n",
       "0                                    NaN         no                 NaN   \n",
       "1                                    NaN        yes                 NaN   \n",
       "2                                    NaN         no                 NaN   \n",
       "3                                    NaN        yes                 NaN   \n",
       "4                                    NaN         no                 NaN   \n",
       "\n",
       "  vaccines_fridge_freezer vaccines_fridge_freezer_dontknow vaccines_transport  \\\n",
       "0                      no                              NaN                 no   \n",
       "1                      no                              NaN                yes   \n",
       "2                      no                              NaN                 no   \n",
       "3                      no                              NaN                yes   \n",
       "4                      no                              NaN                 no   \n",
       "\n",
       "  vaccines_transport_dontknow hiv_testing          hiv_testing_dontknow  \\\n",
       "0                         NaN          no                           NaN   \n",
       "1                         NaN          no                           NaN   \n",
       "2                         NaN          no                           NaN   \n",
       "3                         NaN          no                           NaN   \n",
       "4                         NaN          dk  Refer to lab. Centre around.   \n",
       "\n",
       "  hiv_treatment hiv_treatment_dontknow tb_treatment tb_treatment_dontknow  \\\n",
       "0            no                    NaN           no                   NaN   \n",
       "1            no                    NaN           no                   NaN   \n",
       "2            no                    NaN           no                   NaN   \n",
       "3            no                    NaN           no                   NaN   \n",
       "4            no                    NaN           no                   NaN   \n",
       "\n",
       "  c_section_yn c_section_yn_dontknow  improved_water_supply.handpump  \\\n",
       "0           no                   NaN                           False   \n",
       "1           no                   NaN                           False   \n",
       "2           no                   NaN                           False   \n",
       "3           no                   NaN                           False   \n",
       "4           no                   NaN                           False   \n",
       "\n",
       "   improved_water_supply.tap  improved_water_supply.protected_well  \\\n",
       "0                      False                                 False   \n",
       "1                      False                                 False   \n",
       "2                      False                                 False   \n",
       "3                      False                                 False   \n",
       "4                      False                                 False   \n",
       "\n",
       "   improved_water_supply.rainwater  improved_water_supply.none  \\\n",
       "0                            False                        True   \n",
       "1                            False                        True   \n",
       "2                            False                        True   \n",
       "3                             True                       False   \n",
       "4                            False                        True   \n",
       "\n",
       "  improved_water_functionality improved_water_functionality_dontknow  \\\n",
       "0                          NaN                                   NaN   \n",
       "1                          NaN                                   NaN   \n",
       "2                          NaN                                   NaN   \n",
       "3               not_functional                                   NaN   \n",
       "4                          NaN                                   NaN   \n",
       "\n",
       "   improved_sanitation.vip_latrine  improved_sanitation.pit_latrine_with_slab  \\\n",
       "0                            False                                       True   \n",
       "1                            False                                       True   \n",
       "2                            False                                      False   \n",
       "3                            False                                      False   \n",
       "4                            False                                      False   \n",
       "\n",
       "   improved_sanitation.flush  improved_sanitation.none  num_toilets_total  \\\n",
       "0                      False                     False                3.0   \n",
       "1                      False                     False                1.0   \n",
       "2                      False                      True                NaN   \n",
       "3                       True                     False                2.0   \n",
       "4                       True                     False                1.0   \n",
       "\n",
       "  num_toilets_dontknow  power_sources.grid  power_sources.solar_system  \\\n",
       "0                  NaN                True                       False   \n",
       "1                  NaN               False                       False   \n",
       "2                  NaN               False                       False   \n",
       "3                  NaN                True                       False   \n",
       "4                  NaN                True                       False   \n",
       "\n",
       "   power_sources.generator  power_sources.none phcn_electricity  \\\n",
       "0                    False               False              yes   \n",
       "1                    False                True               no   \n",
       "2                    False                True               no   \n",
       "3                    False               False              yes   \n",
       "4                     True               False              yes   \n",
       "\n",
       "  phcn_functional phcn_functional_dontknow solar_functional  \\\n",
       "0              no                      NaN              NaN   \n",
       "1             NaN                      NaN              NaN   \n",
       "2             NaN                      NaN              NaN   \n",
       "3              no                      NaN              NaN   \n",
       "4              no                      NaN              NaN   \n",
       "\n",
       "  solar_functional_dontknow generator_functional  \\\n",
       "0                       NaN                  NaN   \n",
       "1                       NaN                  NaN   \n",
       "2                       NaN                  NaN   \n",
       "3                       NaN                  NaN   \n",
       "4                       NaN                  yes   \n",
       "\n",
       "  generator_functional_dontknow grid_proximity_if_not_connected  \\\n",
       "0                           NaN                             NaN   \n",
       "1                           NaN                     beyond_500m   \n",
       "2                           NaN                     beyond_500m   \n",
       "3                           NaN                             NaN   \n",
       "4                           NaN                             NaN   \n",
       "\n",
       "  grid_proximity_dontknow grid_proximity              contact_name  \\\n",
       "0                     NaN      connected  Mrs. Pauline Onwuzuruike   \n",
       "1                     NaN    beyond_500m               Egwuda Mary   \n",
       "2                     NaN    beyond_500m            Stephen Anekwe   \n",
       "3                     NaN      connected  Mrs Paulina Gabriel Abia   \n",
       "4                     NaN      connected          Dr. Donald Mmaju   \n",
       "\n",
       "   contact_phone contact_phone_dontknow  \\\n",
       "0   7.034440e+09                    NaN   \n",
       "1   8.069272e+09                    NaN   \n",
       "2   8.072410e+09                    NaN   \n",
       "3   8.027847e+09                    NaN   \n",
       "4   8.066601e+09                    NaN   \n",
       "\n",
       "                                             gps  X_gps_latitude  \\\n",
       "0    5.2613627 6.87983823 57.099998474121094 5.0        5.261363   \n",
       "1  6.8456399999999995 6.640483333333333 55.8 5.0        6.845640   \n",
       "2             6.71482 6.641430000000001 20.9 4.7        6.714820   \n",
       "3                5.06579175 7.73794931 109.5 5.0        5.065792   \n",
       "4     5.25486386 6.88026913 71.0999984741211 5.0        5.254864   \n",
       "\n",
       "   X_gps_longitude  X_gps_altitude  X_gps_precision     photo_facility  \\\n",
       "0         6.879838       57.099998              5.0  1396576075046.jpg   \n",
       "1         6.640483       55.800000              5.0  1397574680952.jpg   \n",
       "2         6.641430       20.900000              4.7  1397582452618.jpg   \n",
       "3         7.737949      109.500000              5.0  1396444908019.jpg   \n",
       "4         6.880269       71.099998              5.0  1396577373182.jpg   \n",
       "\n",
       "     photo_signboard      photo_repairs                start  \\\n",
       "0  1396576266230.jpg  1396576104969.jpg  2014-04-04 02:32:10   \n",
       "1                NaN  1397575031342.jpg  2014-04-15 15:53:45   \n",
       "2                NaN  1397582469401.jpg  2014-04-15 18:12:02   \n",
       "3  1396445087250.jpg                NaN  2014-04-02 13:54:28   \n",
       "4  1396577416618.jpg  1396577442179.jpg  2014-04-04 02:55:23   \n",
       "\n",
       "                   end         deviceid     subscriberid  \\\n",
       "0  2014-04-06 19:40:02  358593044259754  621300250495359   \n",
       "1  2014-04-16 07:15:40  351649060465084  621300154559270   \n",
       "2  2014-04-16 07:14:30  351649060465084  621300154559270   \n",
       "3  2014-04-02 14:27:27  358593044258392              NaN   \n",
       "4  2014-04-06 19:35:28  358593044259754  621300250495359   \n",
       "\n",
       "              simserial        date                                  uuid  \\\n",
       "0  89234010001281022165  2014-04-04  7af94a02-654f-4f6f-9c60-877de15cbfb6   \n",
       "1  89234010001821729857  2014-04-15  b121ffca-175d-49e5-ade4-a657b2109c1e   \n",
       "2  89234010001821729857  2014-04-15  9c64ba9c-dfd2-4d42-99a2-563fe0e6d625   \n",
       "3                   NaN  2014-04-02  57803d68-5b2f-4663-8fb2-7fdcd84e062d   \n",
       "4  89234010001281022165  2014-04-04  f44879b5-82f2-4bc4-baaa-c007f47b5032   \n",
       "\n",
       "                                  instanceID  \\\n",
       "0  uuid:62049bde-1625-4714-aee6-fe26c54f8f5b   \n",
       "1  uuid:b98121ba-5aa3-47d4-9dfd-5722e2266f75   \n",
       "2  uuid:cd1cf5fe-81ab-4311-95b2-de1ce792b5aa   \n",
       "3  uuid:b80741ca-0b9a-4e4f-b39f-65c2dbd2b3cb   \n",
       "4  uuid:28d00670-24f1-4fd6-913a-e1ef6f420a4b   \n",
       "\n",
       "                                 X_uuid    X_submission_time  \n",
       "0  62049bde-1625-4714-aee6-fe26c54f8f5b  2014-04-14T08:01:49  \n",
       "1  b98121ba-5aa3-47d4-9dfd-5722e2266f75  2014-04-17T17:30:17  \n",
       "2  cd1cf5fe-81ab-4311-95b2-de1ce792b5aa  2014-04-17T17:30:48  \n",
       "3  b80741ca-0b9a-4e4f-b39f-65c2dbd2b3cb  2014-04-14T08:02:52  \n",
       "4  28d00670-24f1-4fd6-913a-e1ef6f420a4b  2014-04-14T08:03:38  "
      ]
     },
     "execution_count": 91,
     "metadata": {},
     "output_type": "execute_result"
    }
   ],
   "source": [
    "df.head()"
   ]
  },
  {
   "cell_type": "markdown",
   "metadata": {},
   "source": [
    "#### Check amount of missing values per column"
   ]
  },
  {
   "cell_type": "code",
   "execution_count": 5,
   "metadata": {
    "scrolled": true
   },
   "outputs": [
    {
     "data": {
      "text/plain": [
       "facility_list_yn                                 0\n",
       "facility_ID                                    908\n",
       "enumerator_name                                  0\n",
       "zone                                             0\n",
       "state                                            0\n",
       "lga                                             93\n",
       "ward                                             0\n",
       "community                                        3\n",
       "facility_name                                    0\n",
       "facility_type                                    0\n",
       "facility_type_dontknow                       11342\n",
       "management                                       0\n",
       "management_dontknow                          11412\n",
       "num_doctors_fulltime                           390\n",
       "num_midwives_fulltime                          396\n",
       "num_nurses_fulltime                            402\n",
       "num_chews_fulltime                             392\n",
       "num_staff_dontknow                           11162\n",
       "delivery_services                                0\n",
       "delivery_services_dontknow                   11113\n",
       "maternity_ward                                8282\n",
       "maternity_ward_dontknow                      11574\n",
       "twentyfourseven_yn                           11469\n",
       "twentyfourseven_yn_dontknow                  11582\n",
       "antenatal_care_yn                                0\n",
       "antenatal_care_yn_dontknow                   11132\n",
       "family_planning_yn                               0\n",
       "family_planning_yn_dontknow                  11123\n",
       "emergency_transport_ambulance                    0\n",
       "emergency_transport_ambulance_dontknow       11159\n",
       "emergency_transport_30min                     2009\n",
       "emergency_transport_30min_dontknow           11577\n",
       "emergency_transport                              0\n",
       "malaria_treatment_artemisinin                    0\n",
       "malaria_treatment_artemisinin_dontknow       11133\n",
       "measles_yn                                       0\n",
       "measles_yn_dontknow                          11144\n",
       "vaccines_fridge_freezer                          0\n",
       "vaccines_fridge_freezer_dontknow             11143\n",
       "vaccines_transport                               0\n",
       "vaccines_transport_dontknow                  11146\n",
       "hiv_testing                                      0\n",
       "hiv_testing_dontknow                         11142\n",
       "hiv_treatment                                    0\n",
       "hiv_treatment_dontknow                       11144\n",
       "tb_treatment                                     0\n",
       "tb_treatment_dontknow                        11151\n",
       "c_section_yn                                     0\n",
       "c_section_yn_dontknow                        11156\n",
       "improved_water_supply.handpump                   0\n",
       "improved_water_supply.tap                        0\n",
       "improved_water_supply.protected_well             0\n",
       "improved_water_supply.rainwater                  0\n",
       "improved_water_supply.none                       0\n",
       "improved_water_functionality                  5215\n",
       "improved_water_functionality_dontknow        11577\n",
       "improved_sanitation.vip_latrine                  0\n",
       "improved_sanitation.pit_latrine_with_slab        0\n",
       "improved_sanitation.flush                        0\n",
       "improved_sanitation.none                         0\n",
       "num_toilets_total                             4519\n",
       "num_toilets_dontknow                         11528\n",
       "power_sources.grid                               0\n",
       "power_sources.solar_system                       0\n",
       "power_sources.generator                          0\n",
       "power_sources.none                               0\n",
       "phcn_electricity                                 0\n",
       "phcn_functional                               6236\n",
       "phcn_functional_dontknow                     11559\n",
       "solar_functional                             11095\n",
       "solar_functional_dontknow                    11580\n",
       "generator_functional                          7561\n",
       "generator_functional_dontknow                11572\n",
       "grid_proximity_if_not_connected               5346\n",
       "grid_proximity_dontknow                      11009\n",
       "grid_proximity                                   0\n",
       "contact_name                                    19\n",
       "contact_phone                                 1071\n",
       "contact_phone_dontknow                       10510\n",
       "gps                                              0\n",
       "X_gps_latitude                                   0\n",
       "X_gps_longitude                                  0\n",
       "X_gps_altitude                                   0\n",
       "X_gps_precision                                  0\n",
       "photo_facility                                   0\n",
       "photo_signboard                               5410\n",
       "photo_repairs                                 6231\n",
       "start                                            0\n",
       "end                                              0\n",
       "deviceid                                         0\n",
       "subscriberid                                  2307\n",
       "simserial                                     2199\n",
       "date                                             0\n",
       "uuid                                             0\n",
       "instanceID                                       0\n",
       "X_uuid                                           0\n",
       "X_submission_time                                0\n",
       "dtype: int64"
      ]
     },
     "execution_count": 5,
     "metadata": {},
     "output_type": "execute_result"
    }
   ],
   "source": [
    "df.isnull().sum()"
   ]
  },
  {
   "cell_type": "markdown",
   "metadata": {},
   "source": [
    "Get all columns with high number of missing values \n",
    "2k+ missing values"
   ]
  },
  {
   "cell_type": "code",
   "execution_count": 6,
   "metadata": {},
   "outputs": [],
   "source": [
    "columns = df.columns\n",
    "useless_columns = []\n",
    "\n",
    "for cols in columns:\n",
    "    if df[cols].isnull().sum() > 2000:\n",
    "        useless_columns.append(cols)\n",
    "    else:\n",
    "        pass"
   ]
  },
  {
   "cell_type": "markdown",
   "metadata": {},
   "source": [
    "Total number of columns with very high missing values"
   ]
  },
  {
   "cell_type": "code",
   "execution_count": 7,
   "metadata": {},
   "outputs": [
    {
     "data": {
      "text/plain": [
       "38"
      ]
     },
     "execution_count": 7,
     "metadata": {},
     "output_type": "execute_result"
    }
   ],
   "source": [
    "len(useless_columns)"
   ]
  },
  {
   "cell_type": "code",
   "execution_count": 8,
   "metadata": {
    "scrolled": true
   },
   "outputs": [
    {
     "data": {
      "text/plain": [
       "['facility_type_dontknow',\n",
       " 'management_dontknow',\n",
       " 'num_staff_dontknow',\n",
       " 'delivery_services_dontknow',\n",
       " 'maternity_ward',\n",
       " 'maternity_ward_dontknow',\n",
       " 'twentyfourseven_yn',\n",
       " 'twentyfourseven_yn_dontknow',\n",
       " 'antenatal_care_yn_dontknow',\n",
       " 'family_planning_yn_dontknow',\n",
       " 'emergency_transport_ambulance_dontknow',\n",
       " 'emergency_transport_30min',\n",
       " 'emergency_transport_30min_dontknow',\n",
       " 'malaria_treatment_artemisinin_dontknow',\n",
       " 'measles_yn_dontknow',\n",
       " 'vaccines_fridge_freezer_dontknow',\n",
       " 'vaccines_transport_dontknow',\n",
       " 'hiv_testing_dontknow',\n",
       " 'hiv_treatment_dontknow',\n",
       " 'tb_treatment_dontknow',\n",
       " 'c_section_yn_dontknow',\n",
       " 'improved_water_functionality',\n",
       " 'improved_water_functionality_dontknow',\n",
       " 'num_toilets_total',\n",
       " 'num_toilets_dontknow',\n",
       " 'phcn_functional',\n",
       " 'phcn_functional_dontknow',\n",
       " 'solar_functional',\n",
       " 'solar_functional_dontknow',\n",
       " 'generator_functional',\n",
       " 'generator_functional_dontknow',\n",
       " 'grid_proximity_if_not_connected',\n",
       " 'grid_proximity_dontknow',\n",
       " 'contact_phone_dontknow',\n",
       " 'photo_signboard',\n",
       " 'photo_repairs',\n",
       " 'subscriberid',\n",
       " 'simserial']"
      ]
     },
     "execution_count": 8,
     "metadata": {},
     "output_type": "execute_result"
    }
   ],
   "source": [
    "useless_columns"
   ]
  },
  {
   "cell_type": "markdown",
   "metadata": {},
   "source": [
    "Dealing with each useless columns one after the other to know if it is worth dropping"
   ]
  },
  {
   "cell_type": "markdown",
   "metadata": {},
   "source": [
    "### Column 0"
   ]
  },
  {
   "cell_type": "code",
   "execution_count": 9,
   "metadata": {},
   "outputs": [
    {
     "name": "stdout",
     "output_type": "stream",
     "text": [
      "Column: facility_type_dontknow\n"
     ]
    },
    {
     "data": {
      "text/plain": [
       "240"
      ]
     },
     "execution_count": 9,
     "metadata": {},
     "output_type": "execute_result"
    }
   ],
   "source": [
    "# Name of the column we are dealing with\n",
    "print(f'Column: {useless_columns[0]}')\n",
    "# Amount of available data\n",
    "11582 - df[useless_columns[0]].isnull().sum()"
   ]
  },
  {
   "cell_type": "code",
   "execution_count": 10,
   "metadata": {
    "scrolled": false
   },
   "outputs": [
    {
     "data": {
      "text/plain": [
       "Closed Down                     16\n",
       "Facility closed down             8\n",
       "CLOSED DOWN                      8\n",
       "Facility Closed down             6\n",
       "Facility not in use              5\n",
       "Facility closed                  5\n",
       "Facility has closed down         4\n",
       "Private clinic                   3\n",
       "THE FACILITY NO LONGER EXIST     3\n",
       "Information Denied               3\n",
       "Name: facility_type_dontknow, dtype: int64"
      ]
     },
     "execution_count": 10,
     "metadata": {},
     "output_type": "execute_result"
    }
   ],
   "source": [
    "# Getting insight of what the data is all about\n",
    "df[useless_columns[0]].value_counts().head(10)"
   ]
  },
  {
   "cell_type": "markdown",
   "metadata": {},
   "source": [
    "Note the trend we have a common complain but put in different forms/ format\n",
    "\n",
    "Facility closed down/CLOSED DOWN/Facility Closed down/Facility closed/Facility not in use/Facility has closed down all this means that the company has closed down, and would not operate "
   ]
  },
  {
   "cell_type": "code",
   "execution_count": 11,
   "metadata": {},
   "outputs": [
    {
     "data": {
      "text/plain": [
       "182"
      ]
     },
     "execution_count": 11,
     "metadata": {},
     "output_type": "execute_result"
    }
   ],
   "source": [
    "# checking the amount of unique values we have in the useless_column[0]\n",
    "df[useless_columns[0]].nunique()"
   ]
  },
  {
   "cell_type": "markdown",
   "metadata": {},
   "source": [
    "We can see that out of 240 available data provided for us to work with from the *facility_type_dontknow* we have 182 unique data points. meaning the column is not totally necessary and can be dropped"
   ]
  },
  {
   "cell_type": "markdown",
   "metadata": {},
   "source": [
    "### Column 1"
   ]
  },
  {
   "cell_type": "code",
   "execution_count": 12,
   "metadata": {
    "scrolled": true
   },
   "outputs": [
    {
     "name": "stdout",
     "output_type": "stream",
     "text": [
      "Column: management_dontknow\n",
      "\n",
      " 170\n",
      "\n",
      " Closed Down                                  16\n",
      "Facility closed down                         10\n",
      "Facility closed                               7\n",
      "Facility Closed down                          7\n",
      "Facility not in use                           5\n",
      "Information Denied                            3\n",
      "Facility has closed down                      3\n",
      "NO LONGER EXIST                               3\n",
      "Information dinied                            3\n",
      "Facility locked information not available     2\n",
      "Name: management_dontknow, dtype: int64\n"
     ]
    }
   ],
   "source": [
    "# Name of the column we are dealing with\n",
    "print(f'Column: {useless_columns[1]}')\n",
    "# Amount of available data\n",
    "print('\\n',11582 - df[useless_columns[1]].isnull().sum())\n",
    "\n",
    "# Getting insight of what the data is all about\n",
    "print('\\n',df[useless_columns[1]].value_counts().head(10))"
   ]
  },
  {
   "cell_type": "markdown",
   "metadata": {},
   "source": [
    "Note the trend we have a common complain but put in different forms/ format\n",
    "\n",
    "Facility closed down/CLOSED DOWN/Facility Closed down/Facility closed/Facility not in use/Facility has closed down all this means that the company has closed down, and would not operate"
   ]
  },
  {
   "cell_type": "code",
   "execution_count": 13,
   "metadata": {},
   "outputs": [
    {
     "data": {
      "text/plain": [
       "112"
      ]
     },
     "execution_count": 13,
     "metadata": {},
     "output_type": "execute_result"
    }
   ],
   "source": [
    "# checking the amount of unique values we have in the useless_column[0]\n",
    "df[useless_columns[1]].nunique()"
   ]
  },
  {
   "cell_type": "markdown",
   "metadata": {},
   "source": [
    "### Column 2"
   ]
  },
  {
   "cell_type": "code",
   "execution_count": 14,
   "metadata": {},
   "outputs": [
    {
     "name": "stdout",
     "output_type": "stream",
     "text": [
      "Column: num_staff_dontknow\n",
      "\n",
      " 420\n",
      "\n",
      " Facility closed down        14\n",
      "Closed Down                 14\n",
      "CLOSED DOWN                 12\n",
      "No respondent               10\n",
      "Facility not in use          7\n",
      "Facility Closed down         7\n",
      "Respondent not available     6\n",
      "Not functional               5\n",
      "Audience not granted         5\n",
      "Facility closed              5\n",
      "Name: num_staff_dontknow, dtype: int64\n"
     ]
    }
   ],
   "source": [
    "# Name of the column we are dealing with\n",
    "print(f'Column: {useless_columns[2]}')\n",
    "# Amount of available data\n",
    "print('\\n',11582 - df[useless_columns[2]].isnull().sum())\n",
    "\n",
    "# Getting insight of what the data is all about\n",
    "print('\\n',df[useless_columns[2]].value_counts().head(10))"
   ]
  },
  {
   "cell_type": "code",
   "execution_count": 15,
   "metadata": {},
   "outputs": [
    {
     "data": {
      "text/plain": [
       "298"
      ]
     },
     "execution_count": 15,
     "metadata": {},
     "output_type": "execute_result"
    }
   ],
   "source": [
    "# checking the amount of unique values we have in the useless_column[0]\n",
    "df[useless_columns[2]].nunique()"
   ]
  },
  {
   "cell_type": "markdown",
   "metadata": {},
   "source": [
    "### Column 3"
   ]
  },
  {
   "cell_type": "code",
   "execution_count": 16,
   "metadata": {},
   "outputs": [
    {
     "name": "stdout",
     "output_type": "stream",
     "text": [
      "Column: delivery_services_dontknow\n",
      "\n",
      " 469\n",
      "\n",
      " Closed Down             16\n",
      "Facility not in use     14\n",
      "Facility closed down    14\n",
      "No respondent           13\n",
      "CLOSED DOWN             12\n",
      "Not functional          10\n",
      "Facility Closed down     8\n",
      "Facility closed          6\n",
      "NO LONGER EXIST          6\n",
      "Audience not granted     5\n",
      "Name: delivery_services_dontknow, dtype: int64\n"
     ]
    }
   ],
   "source": [
    "# Name of the column we are dealing with\n",
    "print(f'Column: {useless_columns[3]}')\n",
    "# Amount of available data\n",
    "print('\\n',11582 - df[useless_columns[3]].isnull().sum())\n",
    "\n",
    "# Getting insight of what the data is all about\n",
    "print('\\n',df[useless_columns[3]].value_counts().head(10))"
   ]
  },
  {
   "cell_type": "code",
   "execution_count": 17,
   "metadata": {},
   "outputs": [
    {
     "data": {
      "text/plain": [
       "303"
      ]
     },
     "execution_count": 17,
     "metadata": {},
     "output_type": "execute_result"
    }
   ],
   "source": [
    "# checking the amount of unique values we have in the useless_column[0]\n",
    "df[useless_columns[3]].nunique()"
   ]
  },
  {
   "cell_type": "markdown",
   "metadata": {},
   "source": [
    "### Column 4"
   ]
  },
  {
   "cell_type": "code",
   "execution_count": 18,
   "metadata": {},
   "outputs": [
    {
     "name": "stdout",
     "output_type": "stream",
     "text": [
      "Column: maternity_ward\n",
      "\n",
      " 3300\n",
      "\n",
      " no     2496\n",
      "yes     796\n",
      "dk        8\n",
      "Name: maternity_ward, dtype: int64\n"
     ]
    }
   ],
   "source": [
    "# Name of the column we are dealing with\n",
    "print(f'Column: {useless_columns[4]}')\n",
    "# Amount of available data\n",
    "print('\\n',11582 - df[useless_columns[4]].isnull().sum())\n",
    "\n",
    "# Getting insight of what the data is all about\n",
    "print('\\n',df[useless_columns[4]].value_counts().head(10))"
   ]
  },
  {
   "cell_type": "code",
   "execution_count": 19,
   "metadata": {},
   "outputs": [
    {
     "data": {
      "text/plain": [
       "3"
      ]
     },
     "execution_count": 19,
     "metadata": {},
     "output_type": "execute_result"
    }
   ],
   "source": [
    "# checking the amount of unique values we have in the useless_column[0]\n",
    "df[useless_columns[4]].nunique()"
   ]
  },
  {
   "cell_type": "markdown",
   "metadata": {},
   "source": [
    "### Column 5"
   ]
  },
  {
   "cell_type": "code",
   "execution_count": 20,
   "metadata": {},
   "outputs": [
    {
     "name": "stdout",
     "output_type": "stream",
     "text": [
      "Column: maternity_ward_dontknow\n",
      "\n",
      " 8\n",
      "\n",
      " Newly constructed and is yet to be commissioned. It is not in use at present    1\n",
      "No staff is being currently posted here                                         1\n",
      "The facility was delapedated so not functional.                                 1\n",
      "not sure for now                                                                1\n",
      "I am new here                                                                   1\n",
      "Facility not functional                                                         1\n",
      "Respondent said he did not know                                                 1\n",
      "new person                                                                      1\n",
      "Name: maternity_ward_dontknow, dtype: int64\n"
     ]
    }
   ],
   "source": [
    "t_num = 5\n",
    "\n",
    "# Name of the column we are dealing with\n",
    "print(f'Column: {useless_columns[t_num]}')\n",
    "# Amount of available data\n",
    "print('\\n',11582 - df[useless_columns[t_num]].isnull().sum())\n",
    "\n",
    "# Getting insight of what the data is all about\n",
    "print('\\n',df[useless_columns[t_num]].value_counts().head(10))"
   ]
  },
  {
   "cell_type": "code",
   "execution_count": 21,
   "metadata": {},
   "outputs": [
    {
     "data": {
      "text/plain": [
       "8"
      ]
     },
     "execution_count": 21,
     "metadata": {},
     "output_type": "execute_result"
    }
   ],
   "source": [
    "# checking the amount of unique values we have in the useless_column[0]\n",
    "df[useless_columns[t_num]].nunique()"
   ]
  },
  {
   "cell_type": "markdown",
   "metadata": {},
   "source": [
    "### Column 6"
   ]
  },
  {
   "cell_type": "code",
   "execution_count": 22,
   "metadata": {},
   "outputs": [
    {
     "name": "stdout",
     "output_type": "stream",
     "text": [
      "Column: twentyfourseven_yn\n",
      "\n",
      " 113\n",
      "\n",
      " no     76\n",
      "yes    37\n",
      "Name: twentyfourseven_yn, dtype: int64\n"
     ]
    }
   ],
   "source": [
    "t_num = 6\n",
    "\n",
    "# Name of the column we are dealing with\n",
    "print(f'Column: {useless_columns[t_num]}')\n",
    "# Amount of available data\n",
    "print('\\n',11582 - df[useless_columns[t_num]].isnull().sum())\n",
    "\n",
    "# Getting insight of what the data is all about\n",
    "print('\\n',df[useless_columns[t_num]].value_counts().head(10))"
   ]
  },
  {
   "cell_type": "code",
   "execution_count": 23,
   "metadata": {},
   "outputs": [
    {
     "data": {
      "text/plain": [
       "2"
      ]
     },
     "execution_count": 23,
     "metadata": {},
     "output_type": "execute_result"
    }
   ],
   "source": [
    "# checking the amount of unique values we have in the useless_column[0]\n",
    "df[useless_columns[t_num]].nunique()"
   ]
  },
  {
   "cell_type": "markdown",
   "metadata": {},
   "source": [
    "### Column 7"
   ]
  },
  {
   "cell_type": "code",
   "execution_count": 24,
   "metadata": {},
   "outputs": [
    {
     "name": "stdout",
     "output_type": "stream",
     "text": [
      "Column: twentyfourseven_yn_dontknow\n",
      "\n",
      " 0\n",
      "\n",
      " Series([], Name: twentyfourseven_yn_dontknow, dtype: int64)\n"
     ]
    }
   ],
   "source": [
    "t_num = 7\n",
    "\n",
    "# Name of the column we are dealing with\n",
    "print(f'Column: {useless_columns[t_num]}')\n",
    "# Amount of available data\n",
    "print('\\n',11582 - df[useless_columns[t_num]].isnull().sum())\n",
    "\n",
    "# Getting insight of what the data is all about\n",
    "print('\\n',df[useless_columns[t_num]].value_counts().head(10))"
   ]
  },
  {
   "cell_type": "code",
   "execution_count": 25,
   "metadata": {},
   "outputs": [
    {
     "data": {
      "text/plain": [
       "0"
      ]
     },
     "execution_count": 25,
     "metadata": {},
     "output_type": "execute_result"
    }
   ],
   "source": [
    "# checking the amount of unique values we have in the useless_column[0]\n",
    "df[useless_columns[t_num]].nunique()"
   ]
  },
  {
   "cell_type": "markdown",
   "metadata": {},
   "source": [
    "### Column 8"
   ]
  },
  {
   "cell_type": "code",
   "execution_count": 26,
   "metadata": {},
   "outputs": [
    {
     "name": "stdout",
     "output_type": "stream",
     "text": [
      "Column: antenatal_care_yn_dontknow\n",
      "\n",
      " 450\n",
      "\n",
      " Closed Down             16\n",
      "Facility closed down    15\n",
      "Facility not in use     13\n",
      "No respondent           13\n",
      "CLOSED DOWN             12\n",
      "Not functional          10\n",
      "Facility closed          7\n",
      "Facility Closed down     7\n",
      "NO LONGER EXIST          6\n",
      "Audience not granted     6\n",
      "Name: antenatal_care_yn_dontknow, dtype: int64\n"
     ]
    }
   ],
   "source": [
    "t_num = 8\n",
    "\n",
    "# Name of the column we are dealing with\n",
    "print(f'Column: {useless_columns[t_num]}')\n",
    "# Amount of available data\n",
    "print('\\n',11582 - df[useless_columns[t_num]].isnull().sum())\n",
    "\n",
    "# Getting insight of what the data is all about\n",
    "print('\\n',df[useless_columns[t_num]].value_counts().head(10))"
   ]
  },
  {
   "cell_type": "code",
   "execution_count": 27,
   "metadata": {},
   "outputs": [
    {
     "data": {
      "text/plain": [
       "278"
      ]
     },
     "execution_count": 27,
     "metadata": {},
     "output_type": "execute_result"
    }
   ],
   "source": [
    "# checking the amount of unique values we have in the useless_column[0]\n",
    "df[useless_columns[t_num]].nunique()"
   ]
  },
  {
   "cell_type": "markdown",
   "metadata": {},
   "source": [
    "### Column 9"
   ]
  },
  {
   "cell_type": "code",
   "execution_count": 28,
   "metadata": {},
   "outputs": [
    {
     "name": "stdout",
     "output_type": "stream",
     "text": [
      "Column: family_planning_yn_dontknow\n",
      "\n",
      " 459\n",
      "\n",
      " Closed Down             15\n",
      "Facility closed down    15\n",
      "No respondent           13\n",
      "CLOSED DOWN             12\n",
      "Facility not in use     12\n",
      "Not functional          10\n",
      "Facility closed          8\n",
      "NO LONGER EXIST          7\n",
      "Facility Closed down     6\n",
      "No staff                 6\n",
      "Name: family_planning_yn_dontknow, dtype: int64\n"
     ]
    }
   ],
   "source": [
    "t_num = 9\n",
    "\n",
    "# Name of the column we are dealing with\n",
    "print(f'Column: {useless_columns[t_num]}')\n",
    "# Amount of available data\n",
    "print('\\n',11582 - df[useless_columns[t_num]].isnull().sum())\n",
    "\n",
    "# Getting insight of what the data is all about\n",
    "print('\\n',df[useless_columns[t_num]].value_counts().head(10))"
   ]
  },
  {
   "cell_type": "code",
   "execution_count": 29,
   "metadata": {},
   "outputs": [
    {
     "data": {
      "text/plain": [
       "281"
      ]
     },
     "execution_count": 29,
     "metadata": {},
     "output_type": "execute_result"
    }
   ],
   "source": [
    "# checking the amount of unique values we have in the useless_column[0]\n",
    "df[useless_columns[t_num]].nunique()"
   ]
  },
  {
   "cell_type": "markdown",
   "metadata": {},
   "source": [
    "###  Column 10"
   ]
  },
  {
   "cell_type": "code",
   "execution_count": 30,
   "metadata": {},
   "outputs": [
    {
     "name": "stdout",
     "output_type": "stream",
     "text": [
      "Column: emergency_transport_ambulance_dontknow\n",
      "\n",
      " 423\n",
      "\n",
      " Closed Down                 16\n",
      "No respondent               13\n",
      "CLOSED DOWN                 12\n",
      "Facility closed down        11\n",
      "Not functional              10\n",
      "Facility closed              9\n",
      "Facility not in use          7\n",
      "Facility Closed down         7\n",
      "NO LONGER EXIST              7\n",
      "Respondent not available     6\n",
      "Name: emergency_transport_ambulance_dontknow, dtype: int64\n"
     ]
    }
   ],
   "source": [
    "t_num = 10\n",
    "\n",
    "# Name of the column we are dealing with\n",
    "print(f'Column: {useless_columns[t_num]}')\n",
    "# Amount of available data\n",
    "print('\\n',11582 - df[useless_columns[t_num]].isnull().sum())\n",
    "\n",
    "# Getting insight of what the data is all about\n",
    "print('\\n',df[useless_columns[t_num]].value_counts().head(10))"
   ]
  },
  {
   "cell_type": "code",
   "execution_count": 31,
   "metadata": {},
   "outputs": [
    {
     "data": {
      "text/plain": [
       "255"
      ]
     },
     "execution_count": 31,
     "metadata": {},
     "output_type": "execute_result"
    }
   ],
   "source": [
    "# checking the amount of unique values we have in the useless_column[0]\n",
    "df[useless_columns[t_num]].nunique()"
   ]
  },
  {
   "cell_type": "markdown",
   "metadata": {},
   "source": [
    "### Column 11"
   ]
  },
  {
   "cell_type": "code",
   "execution_count": 32,
   "metadata": {},
   "outputs": [
    {
     "name": "stdout",
     "output_type": "stream",
     "text": [
      "Column: emergency_transport_30min\n",
      "\n",
      " 9573\n",
      "\n",
      " no     6561\n",
      "yes    3007\n",
      "dk        5\n",
      "Name: emergency_transport_30min, dtype: int64\n"
     ]
    }
   ],
   "source": [
    "t_num = 11\n",
    "\n",
    "# Name of the column we are dealing with\n",
    "print(f'Column: {useless_columns[t_num]}')\n",
    "# Amount of available data\n",
    "print('\\n',11582 - df[useless_columns[t_num]].isnull().sum())\n",
    "\n",
    "# Getting insight of what the data is all about\n",
    "print('\\n',df[useless_columns[t_num]].value_counts().head(10))"
   ]
  },
  {
   "cell_type": "code",
   "execution_count": 33,
   "metadata": {},
   "outputs": [
    {
     "data": {
      "text/plain": [
       "3"
      ]
     },
     "execution_count": 33,
     "metadata": {},
     "output_type": "execute_result"
    }
   ],
   "source": [
    "# checking the amount of unique values we have in the useless_column[0]\n",
    "df[useless_columns[t_num]].nunique()"
   ]
  },
  {
   "cell_type": "markdown",
   "metadata": {},
   "source": [
    "### Column 12"
   ]
  },
  {
   "cell_type": "code",
   "execution_count": 34,
   "metadata": {},
   "outputs": [
    {
     "name": "stdout",
     "output_type": "stream",
     "text": [
      "Column: emergency_transport_30min_dontknow\n",
      "\n",
      " 5\n",
      "\n",
      " The relations of patient have to transport patient themself              1\n",
      "Matron is new here.                                                      1\n",
      "The respondent does not have information about the emergency service.    1\n",
      "No Staff                                                                 1\n",
      "Relatives will have to look for transport                                1\n",
      "Name: emergency_transport_30min_dontknow, dtype: int64\n"
     ]
    }
   ],
   "source": [
    "t_num = 12\n",
    "\n",
    "# Name of the column we are dealing with\n",
    "print(f'Column: {useless_columns[t_num]}')\n",
    "# Amount of available data\n",
    "print('\\n',11582 - df[useless_columns[t_num]].isnull().sum())\n",
    "\n",
    "# Getting insight of what the data is all about\n",
    "print('\\n',df[useless_columns[t_num]].value_counts().head(10))"
   ]
  },
  {
   "cell_type": "code",
   "execution_count": 35,
   "metadata": {},
   "outputs": [
    {
     "data": {
      "text/plain": [
       "5"
      ]
     },
     "execution_count": 35,
     "metadata": {},
     "output_type": "execute_result"
    }
   ],
   "source": [
    "# checking the amount of unique values we have in the useless_column[0]\n",
    "df[useless_columns[t_num]].nunique()"
   ]
  },
  {
   "cell_type": "markdown",
   "metadata": {},
   "source": [
    "### Column 13"
   ]
  },
  {
   "cell_type": "code",
   "execution_count": 36,
   "metadata": {},
   "outputs": [
    {
     "name": "stdout",
     "output_type": "stream",
     "text": [
      "Column: malaria_treatment_artemisinin_dontknow\n",
      "\n",
      " 449\n",
      "\n",
      " Closed Down             16\n",
      "No respondent           14\n",
      "Facility not in use     14\n",
      "Facility closed down    13\n",
      "CLOSED DOWN             12\n",
      "Facility closed          9\n",
      "Not functional           9\n",
      "No staff                 8\n",
      "NO LONGER EXIST          7\n",
      "Facility Closed down     6\n",
      "Name: malaria_treatment_artemisinin_dontknow, dtype: int64\n"
     ]
    }
   ],
   "source": [
    "t_num = 13\n",
    "\n",
    "# Name of the column we are dealing with\n",
    "print(f'Column: {useless_columns[t_num]}')\n",
    "# Amount of available data\n",
    "print('\\n',11582 - df[useless_columns[t_num]].isnull().sum())\n",
    "\n",
    "# Getting insight of what the data is all about\n",
    "print('\\n',df[useless_columns[t_num]].value_counts().head(10))"
   ]
  },
  {
   "cell_type": "code",
   "execution_count": 37,
   "metadata": {},
   "outputs": [
    {
     "data": {
      "text/plain": [
       "272"
      ]
     },
     "execution_count": 37,
     "metadata": {},
     "output_type": "execute_result"
    }
   ],
   "source": [
    "# checking the amount of unique values we have in the useless_column[0]\n",
    "df[useless_columns[t_num]].nunique()"
   ]
  },
  {
   "cell_type": "markdown",
   "metadata": {},
   "source": [
    "### Column 14"
   ]
  },
  {
   "cell_type": "code",
   "execution_count": 38,
   "metadata": {},
   "outputs": [
    {
     "name": "stdout",
     "output_type": "stream",
     "text": [
      "Column: measles_yn_dontknow\n",
      "\n",
      " 438\n",
      "\n",
      " Closed Down             16\n",
      "No respondent           14\n",
      "Facility closed down    13\n",
      "Facility not in use     12\n",
      "CLOSED DOWN             12\n",
      "Facility closed          9\n",
      "Not functional           8\n",
      "NO LONGER EXIST          7\n",
      "Audience not granted     6\n",
      "No staff                 6\n",
      "Name: measles_yn_dontknow, dtype: int64\n"
     ]
    }
   ],
   "source": [
    "t_num = 14\n",
    "\n",
    "# Name of the column we are dealing with\n",
    "print(f'Column: {useless_columns[t_num]}')\n",
    "# Amount of available data\n",
    "print('\\n',11582 - df[useless_columns[t_num]].isnull().sum())\n",
    "\n",
    "# Getting insight of what the data is all about\n",
    "print('\\n',df[useless_columns[t_num]].value_counts().head(10))"
   ]
  },
  {
   "cell_type": "code",
   "execution_count": 39,
   "metadata": {},
   "outputs": [
    {
     "data": {
      "text/plain": [
       "265"
      ]
     },
     "execution_count": 39,
     "metadata": {},
     "output_type": "execute_result"
    }
   ],
   "source": [
    "# checking the amount of unique values we have in the useless_column[0]\n",
    "df[useless_columns[t_num]].nunique()"
   ]
  },
  {
   "cell_type": "markdown",
   "metadata": {},
   "source": [
    "### Column 15"
   ]
  },
  {
   "cell_type": "code",
   "execution_count": 40,
   "metadata": {},
   "outputs": [
    {
     "name": "stdout",
     "output_type": "stream",
     "text": [
      "Column: vaccines_fridge_freezer_dontknow\n",
      "\n",
      " 439\n",
      "\n",
      " Facility closed down    17\n",
      "No respondent           14\n",
      "Closed Down             14\n",
      "CLOSED DOWN             12\n",
      "Not functional           9\n",
      "Facility closed          7\n",
      "NO LONGER EXIST          7\n",
      "Audience not granted     6\n",
      "Facility Closed down     6\n",
      "Facility not in use      6\n",
      "Name: vaccines_fridge_freezer_dontknow, dtype: int64\n"
     ]
    }
   ],
   "source": [
    "t_num = 15\n",
    "\n",
    "# Name of the column we are dealing with\n",
    "print(f'Column: {useless_columns[t_num]}')\n",
    "# Amount of available data\n",
    "print('\\n',11582 - df[useless_columns[t_num]].isnull().sum())\n",
    "\n",
    "# Getting insight of what the data is all about\n",
    "print('\\n',df[useless_columns[t_num]].value_counts().head(10))"
   ]
  },
  {
   "cell_type": "code",
   "execution_count": 41,
   "metadata": {},
   "outputs": [
    {
     "data": {
      "text/plain": [
       "274"
      ]
     },
     "execution_count": 41,
     "metadata": {},
     "output_type": "execute_result"
    }
   ],
   "source": [
    "# checking the amount of unique values we have in the useless_column[0]\n",
    "df[useless_columns[t_num]].nunique()"
   ]
  },
  {
   "cell_type": "markdown",
   "metadata": {},
   "source": [
    "### Column 16"
   ]
  },
  {
   "cell_type": "code",
   "execution_count": 42,
   "metadata": {},
   "outputs": [
    {
     "name": "stdout",
     "output_type": "stream",
     "text": [
      "Column: vaccines_transport_dontknow\n",
      "\n",
      " 436\n",
      "\n",
      " Facility closed down    18\n",
      "Closed Down             16\n",
      "No respondent           14\n",
      "CLOSED DOWN             12\n",
      "Not functional          11\n",
      "Facility closed          9\n",
      "NO LONGER EXIST          7\n",
      "Facility not in use      6\n",
      "Audience not granted     6\n",
      "Facility Closed down     6\n",
      "Name: vaccines_transport_dontknow, dtype: int64\n"
     ]
    }
   ],
   "source": [
    "t_num = 16\n",
    "\n",
    "# Name of the column we are dealing with\n",
    "print(f'Column: {useless_columns[t_num]}')\n",
    "# Amount of available data\n",
    "print('\\n',11582 - df[useless_columns[t_num]].isnull().sum())\n",
    "\n",
    "# Getting insight of what the data is all about\n",
    "print('\\n',df[useless_columns[t_num]].value_counts().head(10))"
   ]
  },
  {
   "cell_type": "code",
   "execution_count": 43,
   "metadata": {},
   "outputs": [
    {
     "data": {
      "text/plain": [
       "258"
      ]
     },
     "execution_count": 43,
     "metadata": {},
     "output_type": "execute_result"
    }
   ],
   "source": [
    "# checking the amount of unique values we have in the useless_column[0]\n",
    "df[useless_columns[t_num]].nunique()"
   ]
  },
  {
   "cell_type": "markdown",
   "metadata": {},
   "source": [
    "### Column 17"
   ]
  },
  {
   "cell_type": "code",
   "execution_count": 44,
   "metadata": {},
   "outputs": [
    {
     "name": "stdout",
     "output_type": "stream",
     "text": [
      "Column: hiv_testing_dontknow\n",
      "\n",
      " 440\n",
      "\n",
      " Closed Down             16\n",
      "No respondent           15\n",
      "Facility closed down    15\n",
      "CLOSED DOWN             12\n",
      "Not functional          12\n",
      "Facility not in use      9\n",
      "Facility closed          8\n",
      "NO LONGER EXIST          7\n",
      "Audience not granted     6\n",
      "Facility Closed down     6\n",
      "Name: hiv_testing_dontknow, dtype: int64\n"
     ]
    }
   ],
   "source": [
    "t_num = 17\n",
    "\n",
    "# Name of the column we are dealing with\n",
    "print(f'Column: {useless_columns[t_num]}')\n",
    "# Amount of available data\n",
    "print('\\n',11582 - df[useless_columns[t_num]].isnull().sum())\n",
    "\n",
    "# Getting insight of what the data is all about\n",
    "print('\\n',df[useless_columns[t_num]].value_counts().head(10))"
   ]
  },
  {
   "cell_type": "code",
   "execution_count": 45,
   "metadata": {},
   "outputs": [
    {
     "data": {
      "text/plain": [
       "268"
      ]
     },
     "execution_count": 45,
     "metadata": {},
     "output_type": "execute_result"
    }
   ],
   "source": [
    "# checking the amount of unique values we have in the useless_column[0]\n",
    "df[useless_columns[t_num]].nunique()"
   ]
  },
  {
   "cell_type": "markdown",
   "metadata": {},
   "source": [
    "### Column 18"
   ]
  },
  {
   "cell_type": "code",
   "execution_count": 46,
   "metadata": {},
   "outputs": [
    {
     "name": "stdout",
     "output_type": "stream",
     "text": [
      "Column: hiv_treatment_dontknow\n",
      "\n",
      " 438\n",
      "\n",
      " Facility closed down        17\n",
      "Closed Down                 16\n",
      "No respondent               16\n",
      "CLOSED DOWN                 12\n",
      "Not functional              10\n",
      "Facility closed              8\n",
      "Facility not in use          8\n",
      "NO LONGER EXIST              7\n",
      "Facility Closed down         6\n",
      "Respondent not available     6\n",
      "Name: hiv_treatment_dontknow, dtype: int64\n"
     ]
    }
   ],
   "source": [
    "t_num = 18\n",
    "\n",
    "# Name of the column we are dealing with\n",
    "print(f'Column: {useless_columns[t_num]}')\n",
    "# Amount of available data\n",
    "print('\\n',11582 - df[useless_columns[t_num]].isnull().sum())\n",
    "\n",
    "# Getting insight of what the data is all about\n",
    "print('\\n',df[useless_columns[t_num]].value_counts().head(10))"
   ]
  },
  {
   "cell_type": "code",
   "execution_count": 47,
   "metadata": {},
   "outputs": [
    {
     "data": {
      "text/plain": [
       "258"
      ]
     },
     "execution_count": 47,
     "metadata": {},
     "output_type": "execute_result"
    }
   ],
   "source": [
    "# checking the amount of unique values we have in the useless_column[0]\n",
    "df[useless_columns[t_num]].nunique()"
   ]
  },
  {
   "cell_type": "markdown",
   "metadata": {},
   "source": [
    "### Column 19"
   ]
  },
  {
   "cell_type": "code",
   "execution_count": 48,
   "metadata": {},
   "outputs": [
    {
     "name": "stdout",
     "output_type": "stream",
     "text": [
      "Column: tb_treatment_dontknow\n",
      "\n",
      " 431\n",
      "\n",
      " Closed Down                 16\n",
      "Facility closed down        14\n",
      "No respondent               14\n",
      "CLOSED DOWN                 12\n",
      "Facility closed              9\n",
      "Not functional               9\n",
      "Facility not in use          8\n",
      "NO LONGER EXIST              7\n",
      "No staff                     6\n",
      "Respondent not available     6\n",
      "Name: tb_treatment_dontknow, dtype: int64\n"
     ]
    }
   ],
   "source": [
    "t_num = 19\n",
    "\n",
    "# Name of the column we are dealing with\n",
    "print(f'Column: {useless_columns[t_num]}')\n",
    "# Amount of available data\n",
    "print('\\n',11582 - df[useless_columns[t_num]].isnull().sum())\n",
    "\n",
    "# Getting insight of what the data is all about\n",
    "print('\\n',df[useless_columns[t_num]].value_counts().head(10))"
   ]
  },
  {
   "cell_type": "code",
   "execution_count": 49,
   "metadata": {},
   "outputs": [
    {
     "data": {
      "text/plain": [
       "255"
      ]
     },
     "execution_count": 49,
     "metadata": {},
     "output_type": "execute_result"
    }
   ],
   "source": [
    "# checking the amount of unique values we have in the useless_column[0]\n",
    "df[useless_columns[t_num]].nunique()"
   ]
  },
  {
   "cell_type": "markdown",
   "metadata": {},
   "source": [
    "### Column 20"
   ]
  },
  {
   "cell_type": "code",
   "execution_count": 50,
   "metadata": {},
   "outputs": [
    {
     "name": "stdout",
     "output_type": "stream",
     "text": [
      "Column: c_section_yn_dontknow\n",
      "\n",
      " 426\n",
      "\n",
      " No respondent           15\n",
      "Closed Down             15\n",
      "Facility closed down    14\n",
      "CLOSED DOWN             12\n",
      "Not functional           9\n",
      "Facility closed          9\n",
      "NO LONGER EXIST          7\n",
      "No staff                 6\n",
      "Audience not granted     6\n",
      "Facility Closed down     6\n",
      "Name: c_section_yn_dontknow, dtype: int64\n"
     ]
    }
   ],
   "source": [
    "t_num = 20\n",
    "\n",
    "# Name of the column we are dealing with\n",
    "print(f'Column: {useless_columns[t_num]}')\n",
    "# Amount of available data\n",
    "print('\\n',11582 - df[useless_columns[t_num]].isnull().sum())\n",
    "\n",
    "# Getting insight of what the data is all about\n",
    "print('\\n',df[useless_columns[t_num]].value_counts().head(10))"
   ]
  },
  {
   "cell_type": "code",
   "execution_count": 51,
   "metadata": {},
   "outputs": [
    {
     "data": {
      "text/plain": [
       "256"
      ]
     },
     "execution_count": 51,
     "metadata": {},
     "output_type": "execute_result"
    }
   ],
   "source": [
    "# checking the amount of unique values we have in the useless_column[0]\n",
    "df[useless_columns[t_num]].nunique()"
   ]
  },
  {
   "cell_type": "markdown",
   "metadata": {},
   "source": [
    "### Column 21"
   ]
  },
  {
   "cell_type": "code",
   "execution_count": 52,
   "metadata": {},
   "outputs": [
    {
     "name": "stdout",
     "output_type": "stream",
     "text": [
      "Column: improved_water_functionality\n",
      "\n",
      " 6367\n",
      "\n",
      " functional        5249\n",
      "not_functional    1032\n",
      "under_repair        44\n",
      "stolen              37\n",
      "dk                   5\n",
      "Name: improved_water_functionality, dtype: int64\n"
     ]
    }
   ],
   "source": [
    "t_num = 21\n",
    "\n",
    "# Name of the column we are dealing with\n",
    "print(f'Column: {useless_columns[t_num]}')\n",
    "# Amount of available data\n",
    "print('\\n',11582 - df[useless_columns[t_num]].isnull().sum())\n",
    "\n",
    "# Getting insight of what the data is all about\n",
    "print('\\n',df[useless_columns[t_num]].value_counts().head(10))"
   ]
  },
  {
   "cell_type": "code",
   "execution_count": 53,
   "metadata": {},
   "outputs": [
    {
     "data": {
      "text/plain": [
       "5"
      ]
     },
     "execution_count": 53,
     "metadata": {},
     "output_type": "execute_result"
    }
   ],
   "source": [
    "# checking the amount of unique values we have in the useless_column[0]\n",
    "df[useless_columns[t_num]].nunique()"
   ]
  },
  {
   "cell_type": "markdown",
   "metadata": {},
   "source": [
    "### Column 22"
   ]
  },
  {
   "cell_type": "code",
   "execution_count": 54,
   "metadata": {},
   "outputs": [
    {
     "name": "stdout",
     "output_type": "stream",
     "text": [
      "Column: improved_water_functionality_dontknow\n",
      "\n",
      " 5\n",
      "\n",
      " No access to information                                           1\n",
      "Facility closed down                                               1\n",
      "Refuse to grant interview                                          1\n",
      "No respondent                                                      1\n",
      "There an overhead tank but no water has been pumped into it yet    1\n",
      "Name: improved_water_functionality_dontknow, dtype: int64\n"
     ]
    }
   ],
   "source": [
    "t_num = 22\n",
    "\n",
    "# Name of the column we are dealing with\n",
    "print(f'Column: {useless_columns[t_num]}')\n",
    "# Amount of available data\n",
    "print('\\n',11582 - df[useless_columns[t_num]].isnull().sum())\n",
    "\n",
    "# Getting insight of what the data is all about\n",
    "print('\\n',df[useless_columns[t_num]].value_counts().head(10))"
   ]
  },
  {
   "cell_type": "code",
   "execution_count": 55,
   "metadata": {},
   "outputs": [
    {
     "data": {
      "text/plain": [
       "5"
      ]
     },
     "execution_count": 55,
     "metadata": {},
     "output_type": "execute_result"
    }
   ],
   "source": [
    "# checking the amount of unique values we have in the useless_column[0]\n",
    "df[useless_columns[t_num]].nunique()"
   ]
  },
  {
   "cell_type": "markdown",
   "metadata": {},
   "source": [
    "### Column 23"
   ]
  },
  {
   "cell_type": "code",
   "execution_count": 56,
   "metadata": {},
   "outputs": [
    {
     "name": "stdout",
     "output_type": "stream",
     "text": [
      "Column: num_toilets_total\n",
      "\n",
      " 7063\n",
      "\n",
      " 2.0     2157\n",
      "1.0     1352\n",
      "3.0      909\n",
      "4.0      836\n",
      "6.0      395\n",
      "5.0      353\n",
      "8.0      185\n",
      "7.0      150\n",
      "10.0     149\n",
      "12.0      93\n",
      "Name: num_toilets_total, dtype: int64\n"
     ]
    }
   ],
   "source": [
    "t_num = 23\n",
    "\n",
    "# Name of the column we are dealing with\n",
    "print(f'Column: {useless_columns[t_num]}')\n",
    "# Amount of available data\n",
    "print('\\n',11582 - df[useless_columns[t_num]].isnull().sum())\n",
    "\n",
    "# Getting insight of what the data is all about\n",
    "print('\\n',df[useless_columns[t_num]].value_counts().head(10))"
   ]
  },
  {
   "cell_type": "code",
   "execution_count": 57,
   "metadata": {
    "scrolled": true
   },
   "outputs": [
    {
     "data": {
      "text/plain": [
       "63"
      ]
     },
     "execution_count": 57,
     "metadata": {},
     "output_type": "execute_result"
    }
   ],
   "source": [
    "# checking the amount of unique values we have in the useless_column[0]\n",
    "df[useless_columns[t_num]].nunique()"
   ]
  },
  {
   "cell_type": "markdown",
   "metadata": {},
   "source": [
    "### Column 24"
   ]
  },
  {
   "cell_type": "code",
   "execution_count": 58,
   "metadata": {},
   "outputs": [
    {
     "name": "stdout",
     "output_type": "stream",
     "text": [
      "Column: num_toilets_dontknow\n",
      "\n",
      " 54\n",
      "\n",
      " No access to information                                                                                                8\n",
      "No respondent                                                                                                           2\n",
      "NO ACCESS TO INFORMATION                                                                                                2\n",
      "Staff does not know                                                                                                     2\n",
      "No respondent to ask questions. The externals of the plumbing work made me say there is flush toilet in the facility    1\n",
      "No exact figure due to the huge size of the facility                                                                    1\n",
      "NO ACCESS TO INFORMATION; FACILITY NOT IN USE                                                                           1\n",
      "Too many to count                                                                                                       1\n",
      "No access into building                                                                                                 1\n",
      "NO RESPONDENT FACILITY LOCKED                                                                                           1\n",
      "Name: num_toilets_dontknow, dtype: int64\n"
     ]
    }
   ],
   "source": [
    "t_num = 24\n",
    "\n",
    "# Name of the column we are dealing with\n",
    "print(f'Column: {useless_columns[t_num]}')\n",
    "# Amount of available data\n",
    "print('\\n',11582 - df[useless_columns[t_num]].isnull().sum())\n",
    "\n",
    "# Getting insight of what the data is all about\n",
    "print('\\n',df[useless_columns[t_num]].value_counts().head(10))"
   ]
  },
  {
   "cell_type": "code",
   "execution_count": 59,
   "metadata": {},
   "outputs": [
    {
     "data": {
      "text/plain": [
       "44"
      ]
     },
     "execution_count": 59,
     "metadata": {},
     "output_type": "execute_result"
    }
   ],
   "source": [
    "# checking the amount of unique values we have in the useless_column[0]\n",
    "df[useless_columns[t_num]].nunique()"
   ]
  },
  {
   "cell_type": "markdown",
   "metadata": {},
   "source": [
    "### Column 25"
   ]
  },
  {
   "cell_type": "code",
   "execution_count": 60,
   "metadata": {},
   "outputs": [
    {
     "name": "stdout",
     "output_type": "stream",
     "text": [
      "Column: phcn_functional\n",
      "\n",
      " 5346\n",
      "\n",
      " yes    4229\n",
      "no     1094\n",
      "dk       23\n",
      "Name: phcn_functional, dtype: int64\n"
     ]
    }
   ],
   "source": [
    "t_num = 25\n",
    "\n",
    "# Name of the column we are dealing with\n",
    "print(f'Column: {useless_columns[t_num]}')\n",
    "# Amount of available data\n",
    "print('\\n',11582 - df[useless_columns[t_num]].isnull().sum())\n",
    "\n",
    "# Getting insight of what the data is all about\n",
    "print('\\n',df[useless_columns[t_num]].value_counts().head(10))"
   ]
  },
  {
   "cell_type": "code",
   "execution_count": 61,
   "metadata": {},
   "outputs": [
    {
     "data": {
      "text/plain": [
       "3"
      ]
     },
     "execution_count": 61,
     "metadata": {},
     "output_type": "execute_result"
    }
   ],
   "source": [
    "# checking the amount of unique values we have in the useless_column[0]\n",
    "df[useless_columns[t_num]].nunique()"
   ]
  },
  {
   "cell_type": "markdown",
   "metadata": {},
   "source": [
    "### Column 26"
   ]
  },
  {
   "cell_type": "code",
   "execution_count": 62,
   "metadata": {},
   "outputs": [
    {
     "name": "stdout",
     "output_type": "stream",
     "text": [
      "Column: phcn_functional_dontknow\n",
      "\n",
      " 23\n",
      "\n",
      " No respondent                                                                                         3\n",
      "Staff are on strike                                                                                   2\n",
      "facility head declined to provide information                                                         2\n",
      "No access to information                                                                              1\n",
      "INFORMATION NOT AVAILABLE                                                                             1\n",
      "The hospital has been on strike for two weeks prior to the survey time                                1\n",
      "Converted to Midwives quaters                                                                         1\n",
      "The hospital has been on strike                                                                       1\n",
      "Staff are strike                                                                                      1\n",
      "The facility has been on strike for two weeks prior to the commencement of the BFI mop up exercise    1\n",
      "Name: phcn_functional_dontknow, dtype: int64\n"
     ]
    }
   ],
   "source": [
    "t_num = 26\n",
    "\n",
    "# Name of the column we are dealing with\n",
    "print(f'Column: {useless_columns[t_num]}')\n",
    "# Amount of available data\n",
    "print('\\n',11582 - df[useless_columns[t_num]].isnull().sum())\n",
    "\n",
    "# Getting insight of what the data is all about\n",
    "print('\\n',df[useless_columns[t_num]].value_counts().head(10))"
   ]
  },
  {
   "cell_type": "code",
   "execution_count": 63,
   "metadata": {},
   "outputs": [
    {
     "data": {
      "text/plain": [
       "19"
      ]
     },
     "execution_count": 63,
     "metadata": {},
     "output_type": "execute_result"
    }
   ],
   "source": [
    "# checking the amount of unique values we have in the useless_column[0]\n",
    "df[useless_columns[t_num]].nunique()"
   ]
  },
  {
   "cell_type": "markdown",
   "metadata": {},
   "source": [
    "### Column 27"
   ]
  },
  {
   "cell_type": "code",
   "execution_count": 64,
   "metadata": {},
   "outputs": [
    {
     "name": "stdout",
     "output_type": "stream",
     "text": [
      "Column: solar_functional\n",
      "\n",
      " 487\n",
      "\n",
      " yes    313\n",
      "no     172\n",
      "dk       2\n",
      "Name: solar_functional, dtype: int64\n"
     ]
    }
   ],
   "source": [
    "t_num = 27\n",
    "\n",
    "# Name of the column we are dealing with\n",
    "print(f'Column: {useless_columns[t_num]}')\n",
    "# Amount of available data\n",
    "print('\\n',11582 - df[useless_columns[t_num]].isnull().sum())\n",
    "\n",
    "# Getting insight of what the data is all about\n",
    "print('\\n',df[useless_columns[t_num]].value_counts().head(10))"
   ]
  },
  {
   "cell_type": "code",
   "execution_count": 65,
   "metadata": {},
   "outputs": [
    {
     "data": {
      "text/plain": [
       "3"
      ]
     },
     "execution_count": 65,
     "metadata": {},
     "output_type": "execute_result"
    }
   ],
   "source": [
    "# checking the amount of unique values we have in the useless_column[0]\n",
    "df[useless_columns[t_num]].nunique()"
   ]
  },
  {
   "cell_type": "markdown",
   "metadata": {},
   "source": [
    "### Column 28"
   ]
  },
  {
   "cell_type": "code",
   "execution_count": 66,
   "metadata": {},
   "outputs": [
    {
     "name": "stdout",
     "output_type": "stream",
     "text": [
      "Column: solar_functional_dontknow\n",
      "\n",
      " 2\n",
      "\n",
      " No staff                     1\n",
      "Refuse to grant interview    1\n",
      "Name: solar_functional_dontknow, dtype: int64\n"
     ]
    }
   ],
   "source": [
    "t_num = 28\n",
    "\n",
    "# Name of the column we are dealing with\n",
    "print(f'Column: {useless_columns[t_num]}')\n",
    "# Amount of available data\n",
    "print('\\n',11582 - df[useless_columns[t_num]].isnull().sum())\n",
    "\n",
    "# Getting insight of what the data is all about\n",
    "print('\\n',df[useless_columns[t_num]].value_counts().head(10))"
   ]
  },
  {
   "cell_type": "code",
   "execution_count": 67,
   "metadata": {},
   "outputs": [
    {
     "data": {
      "text/plain": [
       "2"
      ]
     },
     "execution_count": 67,
     "metadata": {},
     "output_type": "execute_result"
    }
   ],
   "source": [
    "# checking the amount of unique values we have in the useless_column[0]\n",
    "df[useless_columns[t_num]].nunique()"
   ]
  },
  {
   "cell_type": "markdown",
   "metadata": {},
   "source": [
    "### Column 29"
   ]
  },
  {
   "cell_type": "code",
   "execution_count": 68,
   "metadata": {},
   "outputs": [
    {
     "name": "stdout",
     "output_type": "stream",
     "text": [
      "Column: generator_functional\n",
      "\n",
      " 4021\n",
      "\n",
      " yes    3582\n",
      "no      429\n",
      "dk       10\n",
      "Name: generator_functional, dtype: int64\n"
     ]
    }
   ],
   "source": [
    "t_num = 29\n",
    "\n",
    "# Name of the column we are dealing with\n",
    "print(f'Column: {useless_columns[t_num]}')\n",
    "# Amount of available data\n",
    "print('\\n',11582 - df[useless_columns[t_num]].isnull().sum())\n",
    "\n",
    "# Getting insight of what the data is all about\n",
    "print('\\n',df[useless_columns[t_num]].value_counts().head(10))"
   ]
  },
  {
   "cell_type": "code",
   "execution_count": 69,
   "metadata": {},
   "outputs": [
    {
     "data": {
      "text/plain": [
       "3"
      ]
     },
     "execution_count": 69,
     "metadata": {},
     "output_type": "execute_result"
    }
   ],
   "source": [
    "# checking the amount of unique values we have in the useless_column[0]\n",
    "df[useless_columns[t_num]].nunique()"
   ]
  },
  {
   "cell_type": "markdown",
   "metadata": {},
   "source": [
    "### Column 30"
   ]
  },
  {
   "cell_type": "code",
   "execution_count": 70,
   "metadata": {},
   "outputs": [
    {
     "name": "stdout",
     "output_type": "stream",
     "text": [
      "Column: generator_functional_dontknow\n",
      "\n",
      " 10\n",
      "\n",
      " Generator has bot been used for about Two years                                              1\n",
      "The hospital has been on strike for two weeks prior to the time of survey                    1\n",
      "Because the generator have not been use at the facility                                      1\n",
      "The facility has been on strike for the past three weeks(prior to the survey)                1\n",
      "CLINIC CLOSED                                                                                1\n",
      "Yet to start                                                                                 1\n",
      "Refuse to grant interview                                                                    1\n",
      "Generator newly donated to the health centre                                                 1\n",
      "N                                                                                            1\n",
      "The facility has been on strike for the past two weeks(prior to the bfi mop up exercise).    1\n",
      "Name: generator_functional_dontknow, dtype: int64\n"
     ]
    }
   ],
   "source": [
    "t_num = 30\n",
    "\n",
    "# Name of the column we are dealing with\n",
    "print(f'Column: {useless_columns[t_num]}')\n",
    "# Amount of available data\n",
    "print('\\n',11582 - df[useless_columns[t_num]].isnull().sum())\n",
    "\n",
    "# Getting insight of what the data is all about\n",
    "print('\\n',df[useless_columns[t_num]].value_counts().head(10))"
   ]
  },
  {
   "cell_type": "code",
   "execution_count": 71,
   "metadata": {},
   "outputs": [
    {
     "data": {
      "text/plain": [
       "10"
      ]
     },
     "execution_count": 71,
     "metadata": {},
     "output_type": "execute_result"
    }
   ],
   "source": [
    "# checking the amount of unique values we have in the useless_column[0]\n",
    "df[useless_columns[t_num]].nunique()"
   ]
  },
  {
   "cell_type": "markdown",
   "metadata": {},
   "source": [
    "### Column 31"
   ]
  },
  {
   "cell_type": "code",
   "execution_count": 72,
   "metadata": {},
   "outputs": [
    {
     "name": "stdout",
     "output_type": "stream",
     "text": [
      "Column: grid_proximity_if_not_connected\n",
      "\n",
      " 6236\n",
      "\n",
      " beyond_500m    3192\n",
      "within_500m    2471\n",
      "dk              573\n",
      "Name: grid_proximity_if_not_connected, dtype: int64\n"
     ]
    }
   ],
   "source": [
    "t_num = 31\n",
    "\n",
    "# Name of the column we are dealing with\n",
    "print(f'Column: {useless_columns[t_num]}')\n",
    "# Amount of available data\n",
    "print('\\n',11582 - df[useless_columns[t_num]].isnull().sum())\n",
    "\n",
    "# Getting insight of what the data is all about\n",
    "print('\\n',df[useless_columns[t_num]].value_counts().head(10))"
   ]
  },
  {
   "cell_type": "code",
   "execution_count": 73,
   "metadata": {},
   "outputs": [
    {
     "data": {
      "text/plain": [
       "3"
      ]
     },
     "execution_count": 73,
     "metadata": {},
     "output_type": "execute_result"
    }
   ],
   "source": [
    "# checking the amount of unique values we have in the useless_column[0]\n",
    "df[useless_columns[t_num]].nunique()"
   ]
  },
  {
   "cell_type": "markdown",
   "metadata": {},
   "source": [
    "### Column 32"
   ]
  },
  {
   "cell_type": "code",
   "execution_count": 74,
   "metadata": {},
   "outputs": [
    {
     "name": "stdout",
     "output_type": "stream",
     "text": [
      "Column: grid_proximity_dontknow\n",
      "\n",
      " 573\n",
      "\n",
      " Xxx                                        24\n",
      "Closed Down                                16\n",
      "No power line in this community            15\n",
      "Facility closed down                       11\n",
      "Not connected                               9\n",
      "No power supply in the entire community     8\n",
      "CLOSED DOWN                                 8\n",
      "The distance is much                        8\n",
      "Facility Closed down                        7\n",
      "Too far from grid substation                7\n",
      "Name: grid_proximity_dontknow, dtype: int64\n"
     ]
    }
   ],
   "source": [
    "t_num = 32\n",
    "\n",
    "# Name of the column we are dealing with\n",
    "print(f'Column: {useless_columns[t_num]}')\n",
    "# Amount of available data\n",
    "print('\\n',11582 - df[useless_columns[t_num]].isnull().sum())\n",
    "\n",
    "# Getting insight of what the data is all about\n",
    "print('\\n',df[useless_columns[t_num]].value_counts().head(10))"
   ]
  },
  {
   "cell_type": "code",
   "execution_count": 75,
   "metadata": {},
   "outputs": [
    {
     "data": {
      "text/plain": [
       "362"
      ]
     },
     "execution_count": 75,
     "metadata": {},
     "output_type": "execute_result"
    }
   ],
   "source": [
    "# checking the amount of unique values we have in the useless_column[0]\n",
    "df[useless_columns[t_num]].nunique()"
   ]
  },
  {
   "cell_type": "markdown",
   "metadata": {},
   "source": [
    "### Column 33"
   ]
  },
  {
   "cell_type": "code",
   "execution_count": 76,
   "metadata": {},
   "outputs": [
    {
     "name": "stdout",
     "output_type": "stream",
     "text": [
      "Column: contact_phone_dontknow\n",
      "\n",
      " 1072\n",
      "\n",
      " No phone                        21\n",
      "No network                      18\n",
      "No respondent                   15\n",
      "Lost phone                      12\n",
      "CLOSED DOWN                     11\n",
      "The Facility Has Closed Down    11\n",
      "no phone                        10\n",
      "He lost his phone                9\n",
      "XXX                              9\n",
      "No access to information         8\n",
      "Name: contact_phone_dontknow, dtype: int64\n"
     ]
    }
   ],
   "source": [
    "t_num = 33\n",
    "\n",
    "# Name of the column we are dealing with\n",
    "print(f'Column: {useless_columns[t_num]}')\n",
    "# Amount of available data\n",
    "print('\\n',11582 - df[useless_columns[t_num]].isnull().sum())\n",
    "\n",
    "# Getting insight of what the data is all about\n",
    "print('\\n',df[useless_columns[t_num]].value_counts().head(10))"
   ]
  },
  {
   "cell_type": "code",
   "execution_count": 77,
   "metadata": {},
   "outputs": [
    {
     "data": {
      "text/plain": [
       "738"
      ]
     },
     "execution_count": 77,
     "metadata": {},
     "output_type": "execute_result"
    }
   ],
   "source": [
    "# checking the amount of unique values we have in the useless_column[0]\n",
    "df[useless_columns[t_num]].nunique()"
   ]
  },
  {
   "cell_type": "markdown",
   "metadata": {},
   "source": [
    "### Column 34"
   ]
  },
  {
   "cell_type": "code",
   "execution_count": 78,
   "metadata": {},
   "outputs": [
    {
     "name": "stdout",
     "output_type": "stream",
     "text": [
      "Column: photo_signboard\n",
      "\n",
      " 6172\n",
      "\n",
      " 1398479882020.jpg    5\n",
      "1396416668452.jpg    4\n",
      "1396243688785.jpg    3\n",
      "1397218621872.jpg    3\n",
      "1396574766719.jpg    3\n",
      "1398683759970.jpg    2\n",
      "1398432924203.jpg    2\n",
      "1398850987667.jpg    2\n",
      "1396160734391.jpg    2\n",
      "1398517881417.jpg    2\n",
      "Name: photo_signboard, dtype: int64\n"
     ]
    }
   ],
   "source": [
    "t_num = 34\n",
    "\n",
    "# Name of the column we are dealing with\n",
    "print(f'Column: {useless_columns[t_num]}')\n",
    "# Amount of available data\n",
    "print('\\n',11582 - df[useless_columns[t_num]].isnull().sum())\n",
    "\n",
    "# Getting insight of what the data is all about\n",
    "print('\\n',df[useless_columns[t_num]].value_counts().head(10))"
   ]
  },
  {
   "cell_type": "code",
   "execution_count": 79,
   "metadata": {},
   "outputs": [
    {
     "data": {
      "text/plain": [
       "6138"
      ]
     },
     "execution_count": 79,
     "metadata": {},
     "output_type": "execute_result"
    }
   ],
   "source": [
    "# checking the amount of unique values we have in the useless_column[0]\n",
    "df[useless_columns[t_num]].nunique()"
   ]
  },
  {
   "cell_type": "markdown",
   "metadata": {},
   "source": [
    "### Column 35"
   ]
  },
  {
   "cell_type": "code",
   "execution_count": 80,
   "metadata": {},
   "outputs": [
    {
     "name": "stdout",
     "output_type": "stream",
     "text": [
      "Column: photo_repairs\n",
      "\n",
      " 5351\n",
      "\n",
      " 1396416697254.jpg    4\n",
      "1396243745198.jpg    3\n",
      "1396574797420.jpg    3\n",
      "1397212685657.jpg    2\n",
      "1398335935680.jpg    2\n",
      "1396578463504.jpg    2\n",
      "1397117959053.jpg    2\n",
      "1396873622571.jpg    2\n",
      "1398851206565.jpg    2\n",
      "1396959941310.jpg    2\n",
      "Name: photo_repairs, dtype: int64\n"
     ]
    }
   ],
   "source": [
    "t_num = 35\n",
    "\n",
    "# Name of the column we are dealing with\n",
    "print(f'Column: {useless_columns[t_num]}')\n",
    "# Amount of available data\n",
    "print('\\n',11582 - df[useless_columns[t_num]].isnull().sum())\n",
    "\n",
    "# Getting insight of what the data is all about\n",
    "print('\\n',df[useless_columns[t_num]].value_counts().head(10))"
   ]
  },
  {
   "cell_type": "code",
   "execution_count": 81,
   "metadata": {},
   "outputs": [
    {
     "data": {
      "text/plain": [
       "5330"
      ]
     },
     "execution_count": 81,
     "metadata": {},
     "output_type": "execute_result"
    }
   ],
   "source": [
    "# checking the amount of unique values we have in the useless_column[0]\n",
    "df[useless_columns[t_num]].nunique()"
   ]
  },
  {
   "cell_type": "markdown",
   "metadata": {},
   "source": [
    "### Column 36"
   ]
  },
  {
   "cell_type": "code",
   "execution_count": 82,
   "metadata": {},
   "outputs": [
    {
     "name": "stdout",
     "output_type": "stream",
     "text": [
      "Column: subscriberid\n",
      "\n",
      " 9275\n",
      "\n",
      " 621300250495310    86\n",
      "621300250495126    84\n",
      "621300129588985    81\n",
      "621207430562720    72\n",
      "621207610664298    64\n",
      "621300250495555    63\n",
      "621300064804106    57\n",
      "621300250495496    53\n",
      "621300250495225    51\n",
      "621300038757542    51\n",
      "Name: subscriberid, dtype: int64\n"
     ]
    }
   ],
   "source": [
    "t_num = 36\n",
    "\n",
    "# Name of the column we are dealing with\n",
    "print(f'Column: {useless_columns[t_num]}')\n",
    "# Amount of available data\n",
    "print('\\n',11582 - df[useless_columns[t_num]].isnull().sum())\n",
    "\n",
    "# Getting insight of what the data is all about\n",
    "print('\\n',df[useless_columns[t_num]].value_counts().head(10))"
   ]
  },
  {
   "cell_type": "code",
   "execution_count": 83,
   "metadata": {},
   "outputs": [
    {
     "data": {
      "text/plain": [
       "745"
      ]
     },
     "execution_count": 83,
     "metadata": {},
     "output_type": "execute_result"
    }
   ],
   "source": [
    "# checking the amount of unique values we have in the useless_column[0]\n",
    "df[useless_columns[t_num]].nunique()"
   ]
  },
  {
   "cell_type": "markdown",
   "metadata": {},
   "source": [
    "### Column 37"
   ]
  },
  {
   "cell_type": "code",
   "execution_count": 84,
   "metadata": {},
   "outputs": [
    {
     "name": "stdout",
     "output_type": "stream",
     "text": [
      "Column: simserial\n",
      "\n",
      " 9383\n",
      "\n",
      " 89234010001281021670    86\n",
      "89234010001281019831    84\n",
      "89234010000839704373    81\n",
      "8923420034521637401     72\n",
      "8923420034579653185     64\n",
      "89234010001281024120    63\n",
      "89234010001491122193    57\n",
      "89234010001281023536    53\n",
      "89234010001281020821    51\n",
      "89234010001889562067    51\n",
      "Name: simserial, dtype: int64\n"
     ]
    }
   ],
   "source": [
    "t_num = 37\n",
    "\n",
    "# Name of the column we are dealing with\n",
    "print(f'Column: {useless_columns[t_num]}')\n",
    "# Amount of available data\n",
    "print('\\n',11582 - df[useless_columns[t_num]].isnull().sum())\n",
    "\n",
    "# Getting insight of what the data is all about\n",
    "print('\\n',df[useless_columns[t_num]].value_counts().head(10))"
   ]
  },
  {
   "cell_type": "code",
   "execution_count": 85,
   "metadata": {},
   "outputs": [
    {
     "data": {
      "text/plain": [
       "748"
      ]
     },
     "execution_count": 85,
     "metadata": {},
     "output_type": "execute_result"
    }
   ],
   "source": [
    "# checking the amount of unique values we have in the useless_column[0]\n",
    "df[useless_columns[t_num]].nunique()"
   ]
  },
  {
   "cell_type": "code",
   "execution_count": null,
   "metadata": {},
   "outputs": [],
   "source": []
  }
 ],
 "metadata": {
  "kernelspec": {
   "display_name": "Python 3",
   "language": "python",
   "name": "python3"
  },
  "language_info": {
   "codemirror_mode": {
    "name": "ipython",
    "version": 3
   },
   "file_extension": ".py",
   "mimetype": "text/x-python",
   "name": "python",
   "nbconvert_exporter": "python",
   "pygments_lexer": "ipython3",
   "version": "3.7.1"
  }
 },
 "nbformat": 4,
 "nbformat_minor": 2
}
